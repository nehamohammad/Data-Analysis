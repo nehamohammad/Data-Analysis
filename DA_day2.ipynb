{
  "nbformat": 4,
  "nbformat_minor": 0,
  "metadata": {
    "colab": {
      "provenance": []
    },
    "kernelspec": {
      "name": "python3",
      "display_name": "Python 3"
    },
    "language_info": {
      "name": "python"
    }
  },
  "cells": [
    {
      "cell_type": "code",
      "execution_count": null,
      "metadata": {
        "id": "RKdfgQNcq6Iv"
      },
      "outputs": [],
      "source": [
        "#importing\n",
        "import numpy as np\n",
        "#RANDOM MODULE IS SUB-PACKAGE OF NUMPY\n",
        "\n"
      ]
    },
    {
      "cell_type": "code",
      "source": [
        "!pip install np"
      ],
      "metadata": {
        "colab": {
          "base_uri": "https://localhost:8080/"
        },
        "id": "xkMCjaM2r9UG",
        "outputId": "7b9bb915-7b2a-4e46-e342-397898d6eeaf"
      },
      "execution_count": null,
      "outputs": [
        {
          "output_type": "stream",
          "name": "stdout",
          "text": [
            "Collecting np\n",
            "  Downloading np-1.0.2.tar.gz (7.4 kB)\n",
            "  Preparing metadata (setup.py) ... \u001b[?25l\u001b[?25hdone\n",
            "Building wheels for collected packages: np\n",
            "  Building wheel for np (setup.py) ... \u001b[?25l\u001b[?25hdone\n",
            "  Created wheel for np: filename=np-1.0.2-py3-none-any.whl size=13658 sha256=8488e41545c44741ed1fe1a1731ec31f2be83df8b3a7264a985a757c0df014f9\n",
            "  Stored in directory: /root/.cache/pip/wheels/f9/e1/79/c4580a03022dece233bc146286fc9082a8885ee1a7c8d8b980\n",
            "Successfully built np\n",
            "Installing collected packages: np\n",
            "Successfully installed np-1.0.2\n"
          ]
        }
      ]
    },
    {
      "cell_type": "code",
      "source": [
        "a=np.ones((8,4))\n",
        "print(a)"
      ],
      "metadata": {
        "colab": {
          "base_uri": "https://localhost:8080/"
        },
        "id": "X-74khD5sC2V",
        "outputId": "54ab463b-396d-4000-ed18-f316246ba425"
      },
      "execution_count": null,
      "outputs": [
        {
          "output_type": "stream",
          "name": "stdout",
          "text": [
            "[[1. 1. 1. 1.]\n",
            " [1. 1. 1. 1.]\n",
            " [1. 1. 1. 1.]\n",
            " [1. 1. 1. 1.]\n",
            " [1. 1. 1. 1.]\n",
            " [1. 1. 1. 1.]\n",
            " [1. 1. 1. 1.]\n",
            " [1. 1. 1. 1.]]\n"
          ]
        }
      ]
    },
    {
      "cell_type": "code",
      "source": [
        "b=np.arange(1,33,1).reshape(8,4)\n",
        "print(b)"
      ],
      "metadata": {
        "colab": {
          "base_uri": "https://localhost:8080/"
        },
        "id": "11IW5hY3sgxD",
        "outputId": "405f2e47-ec17-47a4-c1e9-36ad89dc0116"
      },
      "execution_count": null,
      "outputs": [
        {
          "output_type": "stream",
          "name": "stdout",
          "text": [
            "[[ 1  2  3  4]\n",
            " [ 5  6  7  8]\n",
            " [ 9 10 11 12]\n",
            " [13 14 15 16]\n",
            " [17 18 19 20]\n",
            " [21 22 23 24]\n",
            " [25 26 27 28]\n",
            " [29 30 31 32]]\n"
          ]
        }
      ]
    },
    {
      "cell_type": "code",
      "source": [
        "H=np.random.rand(1)\n",
        "print(H)"
      ],
      "metadata": {
        "colab": {
          "base_uri": "https://localhost:8080/"
        },
        "id": "TnNhuDeztvPl",
        "outputId": "2cc4d9f1-3653-4ee0-a480-cd88178da75f"
      },
      "execution_count": null,
      "outputs": [
        {
          "output_type": "stream",
          "name": "stdout",
          "text": [
            "[0.53281024]\n"
          ]
        }
      ]
    },
    {
      "cell_type": "code",
      "source": [
        "A=np.random.rand(8,4)#rand range is between 0 to 1\n",
        "print(A)"
      ],
      "metadata": {
        "colab": {
          "base_uri": "https://localhost:8080/"
        },
        "id": "g4HT7Af1t5p1",
        "outputId": "b41ca268-672f-4685-9b27-cbba508e66b7"
      },
      "execution_count": null,
      "outputs": [
        {
          "output_type": "stream",
          "name": "stdout",
          "text": [
            "[[0.01633655 0.71324665 0.93775797 0.53335008]\n",
            " [0.090491   0.03616235 0.32751192 0.85206397]\n",
            " [0.75616349 0.53746053 0.08975027 0.81600267]\n",
            " [0.17561724 0.16506891 0.41041712 0.653869  ]\n",
            " [0.3557942  0.25469196 0.78588892 0.88262353]\n",
            " [0.95583901 0.68431961 0.37648377 0.92097869]\n",
            " [0.43827062 0.36740763 0.4411294  0.57316322]\n",
            " [0.36463893 0.3453167  0.01030147 0.93866492]]\n"
          ]
        }
      ]
    },
    {
      "cell_type": "code",
      "source": [
        "A=10*np.random.rand(8,4)\n",
        "print(A)"
      ],
      "metadata": {
        "colab": {
          "base_uri": "https://localhost:8080/"
        },
        "id": "gFxc2U88uQSu",
        "outputId": "5ab34c6e-ba51-4bb6-99ab-cd916c9748fc"
      },
      "execution_count": null,
      "outputs": [
        {
          "output_type": "stream",
          "name": "stdout",
          "text": [
            "[[5.43217913 8.3082186  6.70887995 9.94862296]\n",
            " [4.02695758 2.37033594 4.45154198 4.28700573]\n",
            " [6.14832352 8.55903302 2.38126096 3.95196743]\n",
            " [3.93392599 7.47269208 0.83550519 0.18182248]\n",
            " [3.10357608 2.84935526 8.57071682 0.73685941]\n",
            " [2.84945613 1.43150154 8.10248042 2.79148042]\n",
            " [7.74086394 8.27457078 2.17837058 7.62595935]\n",
            " [4.32736875 9.7802598  8.86954916 4.44764323]]\n"
          ]
        }
      ]
    },
    {
      "cell_type": "code",
      "source": [
        "A=np.floor(10*np.random.rand(8,4))\n",
        "print(A)"
      ],
      "metadata": {
        "colab": {
          "base_uri": "https://localhost:8080/"
        },
        "id": "v_8LIO3f2_6u",
        "outputId": "689e84b8-201c-4725-86b4-20df57232378"
      },
      "execution_count": null,
      "outputs": [
        {
          "output_type": "stream",
          "name": "stdout",
          "text": [
            "[[6. 8. 0. 3.]\n",
            " [3. 2. 7. 3.]\n",
            " [7. 1. 2. 6.]\n",
            " [2. 8. 6. 9.]\n",
            " [3. 2. 2. 3.]\n",
            " [0. 4. 6. 3.]\n",
            " [8. 2. 7. 7.]\n",
            " [3. 4. 1. 6.]]\n"
          ]
        }
      ]
    },
    {
      "cell_type": "code",
      "source": [
        "np.vsplit(A,4)"
      ],
      "metadata": {
        "colab": {
          "base_uri": "https://localhost:8080/"
        },
        "id": "hxeZK-65w1g2",
        "outputId": "02af5721-2172-44a2-c957-7bf9a0753d6d"
      },
      "execution_count": null,
      "outputs": [
        {
          "output_type": "execute_result",
          "data": {
            "text/plain": [
              "[array([[6., 8., 0., 3.],\n",
              "        [3., 2., 7., 3.]]),\n",
              " array([[7., 1., 2., 6.],\n",
              "        [2., 8., 6., 9.]]),\n",
              " array([[3., 2., 2., 3.],\n",
              "        [0., 4., 6., 3.]]),\n",
              " array([[8., 2., 7., 7.],\n",
              "        [3., 4., 1., 6.]])]"
            ]
          },
          "metadata": {},
          "execution_count": 11
        }
      ]
    },
    {
      "cell_type": "code",
      "source": [
        "np.vsplit(A,(3,5))#split it after 3rd row and 5th row"
      ],
      "metadata": {
        "colab": {
          "base_uri": "https://localhost:8080/"
        },
        "id": "VT1QlPH2xjHf",
        "outputId": "1f0949a6-ca3d-4265-c69d-ba31d7800225"
      },
      "execution_count": null,
      "outputs": [
        {
          "output_type": "execute_result",
          "data": {
            "text/plain": [
              "[array([[6., 8., 0., 3.],\n",
              "        [3., 2., 7., 3.],\n",
              "        [7., 1., 2., 6.]]),\n",
              " array([[2., 8., 6., 9.],\n",
              "        [3., 2., 2., 3.]]),\n",
              " array([[0., 4., 6., 3.],\n",
              "        [8., 2., 7., 7.],\n",
              "        [3., 4., 1., 6.]])]"
            ]
          },
          "metadata": {},
          "execution_count": 12
        }
      ]
    },
    {
      "cell_type": "code",
      "source": [
        "np.hsplit(A,(1,4))"
      ],
      "metadata": {
        "colab": {
          "base_uri": "https://localhost:8080/"
        },
        "id": "MGKPPKo5y1vm",
        "outputId": "088367f0-7de0-41a3-e7e9-6ca7422f24fd"
      },
      "execution_count": null,
      "outputs": [
        {
          "output_type": "execute_result",
          "data": {
            "text/plain": [
              "[array([[6.],\n",
              "        [3.],\n",
              "        [7.],\n",
              "        [2.],\n",
              "        [3.],\n",
              "        [0.],\n",
              "        [8.],\n",
              "        [3.]]),\n",
              " array([[8., 0., 3.],\n",
              "        [2., 7., 3.],\n",
              "        [1., 2., 6.],\n",
              "        [8., 6., 9.],\n",
              "        [2., 2., 3.],\n",
              "        [4., 6., 3.],\n",
              "        [2., 7., 7.],\n",
              "        [4., 1., 6.]]),\n",
              " array([], shape=(8, 0), dtype=float64)]"
            ]
          },
          "metadata": {},
          "execution_count": 13
        }
      ]
    },
    {
      "cell_type": "code",
      "source": [
        "B=np.arange(1,33,1).reshape(4,8)\n",
        "print(B)"
      ],
      "metadata": {
        "colab": {
          "base_uri": "https://localhost:8080/"
        },
        "id": "N0ZMa_4yzkjf",
        "outputId": "b4b02c70-33c6-47bd-d2cc-20ba1f8b1701"
      },
      "execution_count": null,
      "outputs": [
        {
          "output_type": "stream",
          "name": "stdout",
          "text": [
            "[[ 1  2  3  4  5  6  7  8]\n",
            " [ 9 10 11 12 13 14 15 16]\n",
            " [17 18 19 20 21 22 23 24]\n",
            " [25 26 27 28 29 30 31 32]]\n"
          ]
        }
      ]
    },
    {
      "cell_type": "code",
      "source": [
        "np.hsplit(B,4)"
      ],
      "metadata": {
        "colab": {
          "base_uri": "https://localhost:8080/"
        },
        "id": "1hYzi1F6z2U_",
        "outputId": "2f581146-172b-4059-bb36-b80bf4f516a4"
      },
      "execution_count": null,
      "outputs": [
        {
          "output_type": "execute_result",
          "data": {
            "text/plain": [
              "[array([[ 1,  2],\n",
              "        [ 9, 10],\n",
              "        [17, 18],\n",
              "        [25, 26]]),\n",
              " array([[ 3,  4],\n",
              "        [11, 12],\n",
              "        [19, 20],\n",
              "        [27, 28]]),\n",
              " array([[ 5,  6],\n",
              "        [13, 14],\n",
              "        [21, 22],\n",
              "        [29, 30]]),\n",
              " array([[ 7,  8],\n",
              "        [15, 16],\n",
              "        [23, 24],\n",
              "        [31, 32]])]"
            ]
          },
          "metadata": {},
          "execution_count": 24
        }
      ]
    },
    {
      "cell_type": "code",
      "source": [
        "np.hsplit(B,(4,7))#split it after 4th column and 7th column"
      ],
      "metadata": {
        "colab": {
          "base_uri": "https://localhost:8080/"
        },
        "id": "rEdnDZtX0gyw",
        "outputId": "d6ffbe22-94e1-482c-bfe5-bfb3cd5a6e4f"
      },
      "execution_count": null,
      "outputs": [
        {
          "output_type": "execute_result",
          "data": {
            "text/plain": [
              "[array([[ 1,  2,  3,  4],\n",
              "        [ 9, 10, 11, 12],\n",
              "        [17, 18, 19, 20],\n",
              "        [25, 26, 27, 28]]),\n",
              " array([[ 5,  6,  7],\n",
              "        [13, 14, 15],\n",
              "        [21, 22, 23],\n",
              "        [29, 30, 31]]),\n",
              " array([[ 8],\n",
              "        [16],\n",
              "        [24],\n",
              "        [32]])]"
            ]
          },
          "metadata": {},
          "execution_count": 25
        }
      ]
    },
    {
      "cell_type": "code",
      "source": [
        "np.pi"
      ],
      "metadata": {
        "colab": {
          "base_uri": "https://localhost:8080/"
        },
        "id": "rF4r97wr3ZBC",
        "outputId": "c174bad2-2aa4-4ea6-d305-40a152bc7181"
      },
      "execution_count": null,
      "outputs": [
        {
          "output_type": "execute_result",
          "data": {
            "text/plain": [
              "3.141592653589793"
            ]
          },
          "metadata": {},
          "execution_count": 26
        }
      ]
    },
    {
      "cell_type": "code",
      "source": [
        "n=[np.pi/4,np.pi/3,np.pi/2,np.pi]\n",
        "print(n)"
      ],
      "metadata": {
        "colab": {
          "base_uri": "https://localhost:8080/"
        },
        "id": "a7pGZGjS36b1",
        "outputId": "7a095c0f-e6bf-4ad2-ede4-46f242eb50ce"
      },
      "execution_count": null,
      "outputs": [
        {
          "output_type": "stream",
          "name": "stdout",
          "text": [
            "[0.7853981633974483, 1.0471975511965976, 1.5707963267948966, 3.141592653589793]\n"
          ]
        }
      ]
    },
    {
      "cell_type": "code",
      "source": [
        "np.rad2deg(n)"
      ],
      "metadata": {
        "colab": {
          "base_uri": "https://localhost:8080/"
        },
        "id": "cWNGtIDk4RjR",
        "outputId": "e3f11c55-c094-45da-f352-2b01d01904ab"
      },
      "execution_count": null,
      "outputs": [
        {
          "output_type": "execute_result",
          "data": {
            "text/plain": [
              "array([ 45.,  60.,  90., 180.])"
            ]
          },
          "metadata": {},
          "execution_count": 28
        }
      ]
    },
    {
      "cell_type": "code",
      "source": [
        "b=([ 45.,  60.,  90., 180.])\n",
        "np.deg2rad(b)"
      ],
      "metadata": {
        "colab": {
          "base_uri": "https://localhost:8080/"
        },
        "id": "o5rFG_FC4ZEn",
        "outputId": "10de6b6f-11d2-4384-a72a-48b812ce0757"
      },
      "execution_count": null,
      "outputs": [
        {
          "output_type": "execute_result",
          "data": {
            "text/plain": [
              "array([0.78539816, 1.04719755, 1.57079633, 3.14159265])"
            ]
          },
          "metadata": {},
          "execution_count": 30
        }
      ]
    },
    {
      "cell_type": "code",
      "source": [
        "np.sin(90)#radians"
      ],
      "metadata": {
        "colab": {
          "base_uri": "https://localhost:8080/"
        },
        "id": "yaB5JoLD53cC",
        "outputId": "7bc345ed-c6c0-4f68-91ee-199968f642a9"
      },
      "execution_count": null,
      "outputs": [
        {
          "output_type": "execute_result",
          "data": {
            "text/plain": [
              "0.8939966636005579"
            ]
          },
          "metadata": {},
          "execution_count": 31
        }
      ]
    },
    {
      "cell_type": "code",
      "source": [
        "np.tan(45)"
      ],
      "metadata": {
        "colab": {
          "base_uri": "https://localhost:8080/"
        },
        "id": "MJjGWum36CNt",
        "outputId": "f4ed2e49-6ce4-4cc8-a237-4ba399cd99ad"
      },
      "execution_count": null,
      "outputs": [
        {
          "output_type": "execute_result",
          "data": {
            "text/plain": [
              "1.6197751905438615"
            ]
          },
          "metadata": {},
          "execution_count": 32
        }
      ]
    },
    {
      "cell_type": "code",
      "source": [
        "np.cos(1)"
      ],
      "metadata": {
        "colab": {
          "base_uri": "https://localhost:8080/"
        },
        "id": "Hq7_As7L6HLI",
        "outputId": "ab252e67-dcce-49f5-e8d4-ee5f50a48391"
      },
      "execution_count": null,
      "outputs": [
        {
          "output_type": "execute_result",
          "data": {
            "text/plain": [
              "0.5403023058681398"
            ]
          },
          "metadata": {},
          "execution_count": 33
        }
      ]
    },
    {
      "cell_type": "markdown",
      "source": [
        "Statistics"
      ],
      "metadata": {
        "id": "RpnaTaa96glz"
      }
    },
    {
      "cell_type": "code",
      "source": [
        "st=np.array([11,22,33,44,55])"
      ],
      "metadata": {
        "id": "GVz1t_l_6jlI"
      },
      "execution_count": null,
      "outputs": []
    },
    {
      "cell_type": "code",
      "source": [
        "np.mean(st)"
      ],
      "metadata": {
        "colab": {
          "base_uri": "https://localhost:8080/"
        },
        "id": "IGPecjQS6wqb",
        "outputId": "4c164de3-51d9-469e-816b-7d227523e7b9"
      },
      "execution_count": null,
      "outputs": [
        {
          "output_type": "execute_result",
          "data": {
            "text/plain": [
              "33.0"
            ]
          },
          "metadata": {},
          "execution_count": 35
        }
      ]
    },
    {
      "cell_type": "code",
      "source": [
        "np.median(st)"
      ],
      "metadata": {
        "colab": {
          "base_uri": "https://localhost:8080/"
        },
        "id": "RcGdC0vY7IaI",
        "outputId": "81125b8d-3f88-4df4-d079-aab5744c88a3"
      },
      "execution_count": null,
      "outputs": [
        {
          "output_type": "execute_result",
          "data": {
            "text/plain": [
              "33.0"
            ]
          },
          "metadata": {},
          "execution_count": 36
        }
      ]
    },
    {
      "cell_type": "code",
      "source": [
        "np.std(st)"
      ],
      "metadata": {
        "colab": {
          "base_uri": "https://localhost:8080/"
        },
        "id": "jdQvsrb-8ysY",
        "outputId": "40020e71-1f27-4757-98df-b4d549906d14"
      },
      "execution_count": null,
      "outputs": [
        {
          "output_type": "execute_result",
          "data": {
            "text/plain": [
              "15.556349186104045"
            ]
          },
          "metadata": {},
          "execution_count": 37
        }
      ]
    },
    {
      "cell_type": "code",
      "source": [
        "np.var(st)"
      ],
      "metadata": {
        "colab": {
          "base_uri": "https://localhost:8080/"
        },
        "id": "dEhXiLw282IB",
        "outputId": "c3fc219b-f44f-4983-9792-0473987e9545"
      },
      "execution_count": null,
      "outputs": [
        {
          "output_type": "execute_result",
          "data": {
            "text/plain": [
              "242.0"
            ]
          },
          "metadata": {},
          "execution_count": 38
        }
      ]
    },
    {
      "cell_type": "code",
      "source": [
        "C=np.arange(1,5).reshape(2,2)\n",
        "print(C)"
      ],
      "metadata": {
        "colab": {
          "base_uri": "https://localhost:8080/"
        },
        "id": "KI10zJuM_JJu",
        "outputId": "ffb4215a-7662-4068-f1e0-f6baa9032396"
      },
      "execution_count": null,
      "outputs": [
        {
          "output_type": "stream",
          "name": "stdout",
          "text": [
            "[[1 2]\n",
            " [3 4]]\n"
          ]
        }
      ]
    },
    {
      "cell_type": "code",
      "source": [
        "np.linalg.inv(C)#linear algebra is sub-package of numpy"
      ],
      "metadata": {
        "colab": {
          "base_uri": "https://localhost:8080/"
        },
        "id": "HcRr9q26_Q5S",
        "outputId": "7ba34a49-46cb-42bd-ec9b-6eea7e92426f"
      },
      "execution_count": null,
      "outputs": [
        {
          "output_type": "execute_result",
          "data": {
            "text/plain": [
              "array([[-2. ,  1. ],\n",
              "       [ 1.5, -0.5]])"
            ]
          },
          "metadata": {},
          "execution_count": 41
        }
      ]
    },
    {
      "cell_type": "code",
      "source": [
        "x=np.random.rand(1,25).reshape(1,25)\n",
        "print(np.argmax(x))\n",
        "print(x)"
      ],
      "metadata": {
        "colab": {
          "base_uri": "https://localhost:8080/"
        },
        "id": "2cQA7gDLAKK7",
        "outputId": "a50b4f4a-44a9-4d49-907a-fd02d483a4ca"
      },
      "execution_count": null,
      "outputs": [
        {
          "output_type": "stream",
          "name": "stdout",
          "text": [
            "19\n",
            "[[0.83907901 0.48899188 0.5229184  0.09358676 0.86279143 0.29080021\n",
            "  0.69265934 0.56977571 0.88644153 0.39311617 0.35418869 0.98035403\n",
            "  0.7153259  0.32758173 0.47889927 0.60171202 0.00808901 0.82517133\n",
            "  0.18949706 0.98744354 0.54577258 0.41712265 0.67117955 0.38876093\n",
            "  0.08101763]]\n"
          ]
        }
      ]
    },
    {
      "cell_type": "code",
      "source": [],
      "metadata": {
        "id": "ZdwGpU1mAzPB"
      },
      "execution_count": null,
      "outputs": []
    },
    {
      "cell_type": "code",
      "source": [
        "print(np.argmax(x))"
      ],
      "metadata": {
        "colab": {
          "base_uri": "https://localhost:8080/"
        },
        "id": "joXW36N-AsII",
        "outputId": "ca030e4c-4b81-422f-d7a1-6f8632d32312"
      },
      "execution_count": null,
      "outputs": [
        {
          "output_type": "stream",
          "name": "stdout",
          "text": [
            "19\n"
          ]
        }
      ]
    },
    {
      "cell_type": "code",
      "source": [
        "C=np.arange(1,33,1).reshape(8,4)\n",
        "print(C)"
      ],
      "metadata": {
        "colab": {
          "base_uri": "https://localhost:8080/"
        },
        "id": "Jtsr8LhuBbQS",
        "outputId": "29ea4126-d75b-4031-fa54-a2e10ebdacd9"
      },
      "execution_count": null,
      "outputs": [
        {
          "output_type": "stream",
          "name": "stdout",
          "text": [
            "[[ 1  2  3  4]\n",
            " [ 5  6  7  8]\n",
            " [ 9 10 11 12]\n",
            " [13 14 15 16]\n",
            " [17 18 19 20]\n",
            " [21 22 23 24]\n",
            " [25 26 27 28]\n",
            " [29 30 31 32]]\n"
          ]
        }
      ]
    },
    {
      "cell_type": "code",
      "source": [
        "print(np.argmax(C,axis=1))\n",
        "print(np.argmax(C,axis=0))"
      ],
      "metadata": {
        "colab": {
          "base_uri": "https://localhost:8080/"
        },
        "id": "Y7AhX7fFCo8e",
        "outputId": "2110564a-fc0f-4df9-a3ac-64f321b3dae6"
      },
      "execution_count": null,
      "outputs": [
        {
          "output_type": "stream",
          "name": "stdout",
          "text": [
            "[3 3 3 3 3 3 3 3]\n",
            "[7 7 7 7]\n"
          ]
        }
      ]
    },
    {
      "cell_type": "code",
      "source": [
        "print(np.argmin(C))"
      ],
      "metadata": {
        "colab": {
          "base_uri": "https://localhost:8080/"
        },
        "id": "btHE2bd8EWLV",
        "outputId": "c9bb2d34-778d-42bb-c085-8c8d8fecf8b1"
      },
      "execution_count": null,
      "outputs": [
        {
          "output_type": "stream",
          "name": "stdout",
          "text": [
            "0\n"
          ]
        }
      ]
    },
    {
      "cell_type": "code",
      "source": [
        "print(np.argmin(C,axis=1))\n",
        "print(np.argmin(C,axis=0))"
      ],
      "metadata": {
        "colab": {
          "base_uri": "https://localhost:8080/"
        },
        "id": "Jc_kTgUvErkg",
        "outputId": "bd319a22-ae2c-41e4-8e22-aea6e31d0905"
      },
      "execution_count": null,
      "outputs": [
        {
          "output_type": "stream",
          "name": "stdout",
          "text": [
            "[0 0 0 0 0 0 0 0]\n",
            "[0 0 0 0]\n"
          ]
        }
      ]
    },
    {
      "cell_type": "markdown",
      "source": [
        "Searching"
      ],
      "metadata": {
        "id": "bu01ouXCFiHb"
      }
    },
    {
      "cell_type": "code",
      "source": [
        "H=np.array([11,45,22,79,14,8])\n",
        "print(np.where(H%2==0))"
      ],
      "metadata": {
        "colab": {
          "base_uri": "https://localhost:8080/"
        },
        "id": "9khJGKk5FkMb",
        "outputId": "8a83ba61-7087-4218-9825-9a74e301afe5"
      },
      "execution_count": null,
      "outputs": [
        {
          "output_type": "stream",
          "name": "stdout",
          "text": [
            "(array([2, 4, 5]),)\n"
          ]
        }
      ]
    },
    {
      "cell_type": "code",
      "source": [
        "print(np.where(H%2==1))"
      ],
      "metadata": {
        "colab": {
          "base_uri": "https://localhost:8080/"
        },
        "id": "0dF2Z47QE8pP",
        "outputId": "267a59e2-6091-4098-c774-049d7c96a847"
      },
      "execution_count": null,
      "outputs": [
        {
          "output_type": "stream",
          "name": "stdout",
          "text": [
            "(array([0, 1, 3]),)\n"
          ]
        }
      ]
    },
    {
      "cell_type": "code",
      "source": [
        "a=np.array([24,16,7,17,54,60])\n",
        "print(np.where(a%6==0))"
      ],
      "metadata": {
        "colab": {
          "base_uri": "https://localhost:8080/"
        },
        "id": "RokThwhWGs3Q",
        "outputId": "371b36ea-2af9-4e77-9f0d-c110e746c936"
      },
      "execution_count": null,
      "outputs": [
        {
          "output_type": "stream",
          "name": "stdout",
          "text": [
            "(array([0, 4, 5]),)\n"
          ]
        }
      ]
    },
    {
      "cell_type": "code",
      "source": [
        "z=np.array([4,7,8,9,10])\n",
        "x=np.searchsorted(z,8)#gives the index position of element to be searched\n",
        "print(x)"
      ],
      "metadata": {
        "colab": {
          "base_uri": "https://localhost:8080/"
        },
        "id": "eQ7JRZgqHg12",
        "outputId": "1ff0a712-7422-42a6-cdaf-4fb4d39f4b85"
      },
      "execution_count": null,
      "outputs": [
        {
          "output_type": "stream",
          "name": "stdout",
          "text": [
            "2\n"
          ]
        }
      ]
    },
    {
      "cell_type": "code",
      "source": [
        "y=np.searchsorted(H,8)\n",
        "print(y)"
      ],
      "metadata": {
        "colab": {
          "base_uri": "https://localhost:8080/"
        },
        "id": "r553NHB0HcRp",
        "outputId": "cf35c27e-e81e-43a0-98ad-430e4f2c83a1"
      },
      "execution_count": null,
      "outputs": [
        {
          "output_type": "stream",
          "name": "stdout",
          "text": [
            "0\n"
          ]
        }
      ]
    },
    {
      "cell_type": "code",
      "source": [
        "ar=np.array([1,10,9,6,7,4])\n",
        "print(np.sort(ar))\n",
        "c=np.searchsorted(ar,4)\n",
        "print(c)\n"
      ],
      "metadata": {
        "colab": {
          "base_uri": "https://localhost:8080/"
        },
        "id": "LBLgTU19IPiM",
        "outputId": "aac955d3-ded1-418c-ab8e-67f4d719981c"
      },
      "execution_count": null,
      "outputs": [
        {
          "output_type": "stream",
          "name": "stdout",
          "text": [
            "[ 1  4  6  7  9 10]\n",
            "1\n"
          ]
        }
      ]
    },
    {
      "cell_type": "code",
      "source": [
        "arr=np.array([ True,False,True])\n",
        "print(np.sort(arr))"
      ],
      "metadata": {
        "colab": {
          "base_uri": "https://localhost:8080/"
        },
        "id": "48uYsE1SJYhh",
        "outputId": "7b23e4f4-f353-4b7b-b20b-d4d4306bc5de"
      },
      "execution_count": null,
      "outputs": [
        {
          "output_type": "stream",
          "name": "stdout",
          "text": [
            "[False  True  True]\n"
          ]
        }
      ]
    },
    {
      "cell_type": "code",
      "source": [
        "X=np.array([[3,2,4],[5,1,0]])#sorting happens within row\n",
        "print(np.sort(X))"
      ],
      "metadata": {
        "colab": {
          "base_uri": "https://localhost:8080/"
        },
        "id": "veDSh5wwJ0t6",
        "outputId": "96b2b7ef-118d-40d3-910e-4a2189e30948"
      },
      "execution_count": null,
      "outputs": [
        {
          "output_type": "stream",
          "name": "stdout",
          "text": [
            "[[2 3 4]\n",
            " [0 1 5]]\n"
          ]
        }
      ]
    },
    {
      "cell_type": "markdown",
      "source": [
        "array filter"
      ],
      "metadata": {
        "id": "I1NDc4U4MDNP"
      }
    },
    {
      "cell_type": "code",
      "source": [
        "arr=np.array([49,50,47,24,78,14])\n",
        "filt=np.where(arr%2==0) #filters can work for both arrays and lists\n",
        "print(filt)"
      ],
      "metadata": {
        "colab": {
          "base_uri": "https://localhost:8080/"
        },
        "id": "5npQ_AvVL_ee",
        "outputId": "98c962c1-ffd9-43b9-94fa-99b7018b63a8"
      },
      "execution_count": null,
      "outputs": [
        {
          "output_type": "stream",
          "name": "stdout",
          "text": [
            "(array([1, 3, 4, 5]),)\n"
          ]
        }
      ]
    },
    {
      "cell_type": "code",
      "source": [
        "arr[filt]"
      ],
      "metadata": {
        "colab": {
          "base_uri": "https://localhost:8080/"
        },
        "id": "iutv2vFpMaHM",
        "outputId": "504d86ab-30cc-4b14-eade-12d94e7f3bb2"
      },
      "execution_count": null,
      "outputs": [
        {
          "output_type": "execute_result",
          "data": {
            "text/plain": [
              "array([50, 24, 78, 14])"
            ]
          },
          "metadata": {},
          "execution_count": 70
        }
      ]
    },
    {
      "cell_type": "markdown",
      "source": [
        "Iterating through two arrays"
      ],
      "metadata": {
        "id": "e1h08ZvsOlLM"
      }
    },
    {
      "cell_type": "code",
      "source": [
        "names=np.array([\"hema\",\"neha\",\"vyshu\",\"divya\",\"gopi\"])\n",
        "initials=np.array([\"V\",\"M\",\"Y\",\"K\",\"A\"])\n",
        "for i,j in zip(initials,names):\n",
        "  print(i,\".\",j)"
      ],
      "metadata": {
        "colab": {
          "base_uri": "https://localhost:8080/"
        },
        "id": "4DC7rdlcOpVJ",
        "outputId": "9ef488c9-bcd2-42e3-c750-e3ab1644b272"
      },
      "execution_count": null,
      "outputs": [
        {
          "output_type": "stream",
          "name": "stdout",
          "text": [
            "V . hema\n",
            "M . neha\n",
            "Y . vyshu\n",
            "K . divya\n",
            "A . gopi\n"
          ]
        }
      ]
    },
    {
      "cell_type": "code",
      "source": [
        "n1=np.array([10,20,30,40,50])\n",
        "n2=np.array([60,70,80,90,10])\n",
        "a=np.multiply(n1,n2)\n",
        "print(a)"
      ],
      "metadata": {
        "colab": {
          "base_uri": "https://localhost:8080/"
        },
        "id": "q4PInoLuOTlv",
        "outputId": "7e78c2e3-c90e-445f-a6cd-6b222e831404"
      },
      "execution_count": null,
      "outputs": [
        {
          "output_type": "stream",
          "name": "stdout",
          "text": [
            "[ 600 1400 2400 3600  500]\n"
          ]
        }
      ]
    },
    {
      "cell_type": "code",
      "source": [
        "n1=np.array([10,21,30,40,50,60])\n",
        "n2=np.array([20,21,2,20,25,25])\n",
        "b=np.divide(n1,n2)\n",
        "print(b)"
      ],
      "metadata": {
        "colab": {
          "base_uri": "https://localhost:8080/"
        },
        "id": "nWwlxBeEQzgU",
        "outputId": "6ccff37d-81f1-454f-a29c-eb2bb2b02877"
      },
      "execution_count": null,
      "outputs": [
        {
          "output_type": "stream",
          "name": "stdout",
          "text": [
            "[ 0.5  1.  15.   2.   2.   2.4]\n"
          ]
        }
      ]
    },
    {
      "cell_type": "code",
      "source": [
        "n1=np.array([10,21,30,40,50,60])\n",
        "n2=np.array([20,21,2,20,25,25])\n",
        "b=np.mod(n1,n2)\n",
        "print(b)"
      ],
      "metadata": {
        "colab": {
          "base_uri": "https://localhost:8080/"
        },
        "id": "FnD_EgXqRXlG",
        "outputId": "65ee52dc-8365-4301-cff8-6fa66e53a81c"
      },
      "execution_count": null,
      "outputs": [
        {
          "output_type": "stream",
          "name": "stdout",
          "text": [
            "[10  0  0  0  0 10]\n"
          ]
        }
      ]
    },
    {
      "cell_type": "code",
      "source": [
        "n1=np.array([10,21,30,40,50,60])\n",
        "n2=np.array([20,21,2,20,25,25])\n",
        "b=np.divmod(n1,n2)\n",
        "print(b)"
      ],
      "metadata": {
        "colab": {
          "base_uri": "https://localhost:8080/"
        },
        "id": "ynJnA6kwRd1h",
        "outputId": "b6a07b24-6a0c-4da4-ecbb-0562bb78583e"
      },
      "execution_count": null,
      "outputs": [
        {
          "output_type": "stream",
          "name": "stdout",
          "text": [
            "(array([ 0,  1, 15,  2,  2,  2]), array([10,  0,  0,  0,  0, 10]))\n"
          ]
        }
      ]
    },
    {
      "cell_type": "markdown",
      "source": [
        "Logarithms"
      ],
      "metadata": {
        "id": "auIwkXG2SiIT"
      }
    },
    {
      "cell_type": "code",
      "source": [
        "a1=np.arange(2,8)#base 2\n",
        "print(a1)\n",
        "print(np.log2(a1))"
      ],
      "metadata": {
        "colab": {
          "base_uri": "https://localhost:8080/"
        },
        "id": "gsZ2xkBaShBF",
        "outputId": "3d18653c-fe7c-432e-fb59-4484c5a6430b"
      },
      "execution_count": null,
      "outputs": [
        {
          "output_type": "stream",
          "name": "stdout",
          "text": [
            "[2 3 4 5 6 7]\n",
            "[1.         1.5849625  2.         2.32192809 2.5849625  2.80735492]\n"
          ]
        }
      ]
    },
    {
      "cell_type": "code",
      "source": [
        "a1=np.arange(2,8)#base 10\n",
        "print(a1)\n",
        "print(np.log10(a1))"
      ],
      "metadata": {
        "colab": {
          "base_uri": "https://localhost:8080/"
        },
        "id": "bBpg156jS8Ih",
        "outputId": "11981862-690c-4260-d5d9-64535d3d4929"
      },
      "execution_count": null,
      "outputs": [
        {
          "output_type": "stream",
          "name": "stdout",
          "text": [
            "[2 3 4 5 6 7]\n",
            "[0.30103    0.47712125 0.60205999 0.69897    0.77815125 0.84509804]\n"
          ]
        }
      ]
    },
    {
      "cell_type": "code",
      "source": [
        "a1=np.arange(2,8)#natural logarithm-base e\n",
        "print(a1)\n",
        "print(np.log(a1))"
      ],
      "metadata": {
        "colab": {
          "base_uri": "https://localhost:8080/"
        },
        "id": "7QoThR1xTBst",
        "outputId": "9793a64b-28ef-4470-fe3f-210199d8000a"
      },
      "execution_count": null,
      "outputs": [
        {
          "output_type": "stream",
          "name": "stdout",
          "text": [
            "[2 3 4 5 6 7]\n",
            "[0.69314718 1.09861229 1.38629436 1.60943791 1.79175947 1.94591015]\n"
          ]
        }
      ]
    },
    {
      "cell_type": "code",
      "source": [
        "num1=np.array([24,26,45,74])\n",
        "x=np.cumprod(num1)\n",
        "print(x)"
      ],
      "metadata": {
        "colab": {
          "base_uri": "https://localhost:8080/"
        },
        "id": "_GQ5eAP0UzPF",
        "outputId": "b4a81f22-82b6-4fc1-9c87-171725dc7478"
      },
      "execution_count": null,
      "outputs": [
        {
          "output_type": "stream",
          "name": "stdout",
          "text": [
            "[     24     624   28080 2077920]\n"
          ]
        }
      ]
    },
    {
      "cell_type": "code",
      "source": [
        "num1=np.array([24,26,45,74])\n",
        "x=np.cumsum(num1)\n",
        "print(x)"
      ],
      "metadata": {
        "colab": {
          "base_uri": "https://localhost:8080/"
        },
        "id": "fGOJ0OFAVFwX",
        "outputId": "064851c2-aaa3-4719-8018-044a9781ea0b"
      },
      "execution_count": null,
      "outputs": [
        {
          "output_type": "stream",
          "name": "stdout",
          "text": [
            "[ 24  50  95 169]\n"
          ]
        }
      ]
    },
    {
      "cell_type": "code",
      "source": [
        "a=np.array([2,4,6,8,10])\n",
        "newar=np.diff(a)\n",
        "print(newar)"
      ],
      "metadata": {
        "colab": {
          "base_uri": "https://localhost:8080/"
        },
        "id": "Xu7oKradVog2",
        "outputId": "4e334c9b-b647-42f4-978b-3c9d099468dd"
      },
      "execution_count": null,
      "outputs": [
        {
          "output_type": "stream",
          "name": "stdout",
          "text": [
            "[2 2 2 2]\n"
          ]
        }
      ]
    },
    {
      "cell_type": "code",
      "source": [
        "num1=455\n",
        "num2=665\n",
        "x=np.lcm(num1,num2)\n",
        "print(x)"
      ],
      "metadata": {
        "colab": {
          "base_uri": "https://localhost:8080/"
        },
        "id": "07txL-TTV-bd",
        "outputId": "58f8321e-63d2-47cb-9592-96cbb6d170eb"
      },
      "execution_count": null,
      "outputs": [
        {
          "output_type": "stream",
          "name": "stdout",
          "text": [
            "8645\n"
          ]
        }
      ]
    },
    {
      "cell_type": "code",
      "source": [
        "num1=455\n",
        "num2=665\n",
        "x=np.gcd(num1,num2)\n",
        "print(x)"
      ],
      "metadata": {
        "colab": {
          "base_uri": "https://localhost:8080/"
        },
        "id": "ChP6m3TLWLjg",
        "outputId": "3e1edc66-3a9b-449c-e40a-20570bb5efac"
      },
      "execution_count": null,
      "outputs": [
        {
          "output_type": "stream",
          "name": "stdout",
          "text": [
            "35\n"
          ]
        }
      ]
    },
    {
      "cell_type": "code",
      "source": [
        "a=np.array([12,15,18,60])\n",
        "gc=np.gcd.reduce(a)#takes multiple inputs and gives single output\n",
        "print(gc)"
      ],
      "metadata": {
        "colab": {
          "base_uri": "https://localhost:8080/"
        },
        "id": "Q9X-jkzbW7CX",
        "outputId": "6a9a050c-3a0f-4430-c534-680645474e56"
      },
      "execution_count": null,
      "outputs": [
        {
          "output_type": "stream",
          "name": "stdout",
          "text": [
            "3\n"
          ]
        }
      ]
    },
    {
      "cell_type": "code",
      "source": [
        "a=np.array([12,15,18,60])\n",
        "gc=np.lcm.reduce(a)#takes multiple inputs and gives single output\n",
        "print(gc)"
      ],
      "metadata": {
        "colab": {
          "base_uri": "https://localhost:8080/"
        },
        "id": "50DZxkrFXdLt",
        "outputId": "f9e45621-ed63-4cd8-e011-0eb8a7073058"
      },
      "execution_count": null,
      "outputs": [
        {
          "output_type": "stream",
          "name": "stdout",
          "text": [
            "180\n"
          ]
        }
      ]
    }
  ]
}