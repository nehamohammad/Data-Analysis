{
 "cells": [
  {
   "cell_type": "markdown",
   "id": "6996698d",
   "metadata": {},
   "source": [
    "PROJECT 3\n",
    "\n",
    "Extract Dell laptops data from amazon.in website and saving it as.csv"
   ]
  },
  {
   "cell_type": "code",
   "execution_count": 43,
   "id": "6f0a11d4",
   "metadata": {},
   "outputs": [
    {
     "name": "stdout",
     "output_type": "stream",
     "text": [
      "Requirement already satisfied: selenium in c:\\users\\jahir\\anaconda3\\lib\\site-packages (4.17.2)\n",
      "Requirement already satisfied: urllib3[socks]<3,>=1.26 in c:\\users\\jahir\\anaconda3\\lib\\site-packages (from selenium) (1.26.16)\n",
      "Requirement already satisfied: trio~=0.17 in c:\\users\\jahir\\anaconda3\\lib\\site-packages (from selenium) (0.24.0)\n",
      "Requirement already satisfied: trio-websocket~=0.9 in c:\\users\\jahir\\anaconda3\\lib\\site-packages (from selenium) (0.11.1)\n",
      "Requirement already satisfied: certifi>=2021.10.8 in c:\\users\\jahir\\anaconda3\\lib\\site-packages (from selenium) (2023.7.22)\n",
      "Requirement already satisfied: typing_extensions>=4.9.0 in c:\\users\\jahir\\anaconda3\\lib\\site-packages (from selenium) (4.9.0)\n",
      "Requirement already satisfied: attrs>=20.1.0 in c:\\users\\jahir\\anaconda3\\lib\\site-packages (from trio~=0.17->selenium) (22.1.0)\n",
      "Requirement already satisfied: sortedcontainers in c:\\users\\jahir\\anaconda3\\lib\\site-packages (from trio~=0.17->selenium) (2.4.0)\n",
      "Requirement already satisfied: idna in c:\\users\\jahir\\anaconda3\\lib\\site-packages (from trio~=0.17->selenium) (3.4)\n",
      "Requirement already satisfied: outcome in c:\\users\\jahir\\anaconda3\\lib\\site-packages (from trio~=0.17->selenium) (1.3.0.post0)\n",
      "Requirement already satisfied: sniffio>=1.3.0 in c:\\users\\jahir\\anaconda3\\lib\\site-packages (from trio~=0.17->selenium) (1.3.0)\n",
      "Requirement already satisfied: cffi>=1.14 in c:\\users\\jahir\\anaconda3\\lib\\site-packages (from trio~=0.17->selenium) (1.15.1)\n",
      "Requirement already satisfied: wsproto>=0.14 in c:\\users\\jahir\\anaconda3\\lib\\site-packages (from trio-websocket~=0.9->selenium) (1.2.0)\n",
      "Requirement already satisfied: PySocks!=1.5.7,<2.0,>=1.5.6 in c:\\users\\jahir\\anaconda3\\lib\\site-packages (from urllib3[socks]<3,>=1.26->selenium) (1.7.1)\n",
      "Requirement already satisfied: pycparser in c:\\users\\jahir\\anaconda3\\lib\\site-packages (from cffi>=1.14->trio~=0.17->selenium) (2.21)\n",
      "Requirement already satisfied: h11<1,>=0.9.0 in c:\\users\\jahir\\anaconda3\\lib\\site-packages (from wsproto>=0.14->trio-websocket~=0.9->selenium) (0.14.0)\n"
     ]
    }
   ],
   "source": [
    "!pip install selenium"
   ]
  },
  {
   "cell_type": "code",
   "execution_count": 44,
   "id": "b75fbdc5",
   "metadata": {},
   "outputs": [
    {
     "name": "stdout",
     "output_type": "stream",
     "text": [
      "Requirement already satisfied: webdriver_manager in c:\\users\\jahir\\anaconda3\\lib\\site-packages (4.0.1)\n",
      "Requirement already satisfied: requests in c:\\users\\jahir\\anaconda3\\lib\\site-packages (from webdriver_manager) (2.31.0)\n",
      "Requirement already satisfied: python-dotenv in c:\\users\\jahir\\anaconda3\\lib\\site-packages (from webdriver_manager) (0.21.0)\n",
      "Requirement already satisfied: packaging in c:\\users\\jahir\\anaconda3\\lib\\site-packages (from webdriver_manager) (23.1)\n",
      "Requirement already satisfied: charset-normalizer<4,>=2 in c:\\users\\jahir\\anaconda3\\lib\\site-packages (from requests->webdriver_manager) (2.0.4)\n",
      "Requirement already satisfied: idna<4,>=2.5 in c:\\users\\jahir\\anaconda3\\lib\\site-packages (from requests->webdriver_manager) (3.4)\n",
      "Requirement already satisfied: urllib3<3,>=1.21.1 in c:\\users\\jahir\\anaconda3\\lib\\site-packages (from requests->webdriver_manager) (1.26.16)\n",
      "Requirement already satisfied: certifi>=2017.4.17 in c:\\users\\jahir\\anaconda3\\lib\\site-packages (from requests->webdriver_manager) (2023.7.22)\n"
     ]
    }
   ],
   "source": [
    "!pip install webdriver_manager"
   ]
  },
  {
   "cell_type": "code",
   "execution_count": 45,
   "id": "edd3c8a4",
   "metadata": {},
   "outputs": [
    {
     "name": "stdout",
     "output_type": "stream",
     "text": [
      "Requirement already satisfied: pandas in c:\\users\\jahir\\anaconda3\\lib\\site-packages (2.0.3)\n",
      "Requirement already satisfied: python-dateutil>=2.8.2 in c:\\users\\jahir\\anaconda3\\lib\\site-packages (from pandas) (2.8.2)\n",
      "Requirement already satisfied: pytz>=2020.1 in c:\\users\\jahir\\anaconda3\\lib\\site-packages (from pandas) (2023.3.post1)\n",
      "Requirement already satisfied: tzdata>=2022.1 in c:\\users\\jahir\\anaconda3\\lib\\site-packages (from pandas) (2023.3)\n",
      "Requirement already satisfied: numpy>=1.21.0 in c:\\users\\jahir\\anaconda3\\lib\\site-packages (from pandas) (1.24.3)\n",
      "Requirement already satisfied: six>=1.5 in c:\\users\\jahir\\anaconda3\\lib\\site-packages (from python-dateutil>=2.8.2->pandas) (1.16.0)\n"
     ]
    }
   ],
   "source": [
    "!pip install pandas"
   ]
  },
  {
   "cell_type": "code",
   "execution_count": 2,
   "id": "3c001b85",
   "metadata": {},
   "outputs": [],
   "source": [
    "import selenium"
   ]
  },
  {
   "cell_type": "code",
   "execution_count": 3,
   "id": "20012c75",
   "metadata": {},
   "outputs": [],
   "source": [
    "from selenium import webdriver"
   ]
  },
  {
   "cell_type": "code",
   "execution_count": 4,
   "id": "d4621bff",
   "metadata": {},
   "outputs": [],
   "source": [
    "from selenium import webdriver\n",
    "from selenium.webdriver.chrome.options import Options\n",
    "from webdriver_manager.chrome import ChromeDriverManager\n",
    "from selenium.webdriver.common.by import By\n",
    "from selenium.webdriver.common.keys import Keys"
   ]
  },
  {
   "cell_type": "code",
   "execution_count": 5,
   "id": "e9b9fea0",
   "metadata": {},
   "outputs": [
    {
     "name": "stdout",
     "output_type": "stream",
     "text": [
      "chrome\n"
     ]
    }
   ],
   "source": [
    "#define options and set browser capabilities\n",
    "options = webdriver.ChromeOptions()\n",
    "options.add_argument('--some-option')\n",
    "#Create webDriver instance with options\n",
    "driver = webdriver.Chrome(options=options)\n",
    "#access browser capabilities\n",
    "browser_name = options.to_capabilities()[\"browserName\"]\n",
    "print(browser_name)"
   ]
  },
  {
   "cell_type": "code",
   "execution_count": 6,
   "id": "a7308d40",
   "metadata": {},
   "outputs": [],
   "source": [
    "#Navigate to a website\n",
    "driver.get('https://www.amazon.in/')"
   ]
  },
  {
   "cell_type": "code",
   "execution_count": 7,
   "id": "ca7f9344",
   "metadata": {},
   "outputs": [],
   "source": [
    "search=driver.find_element(By.ID,\"twotabsearchtextbox\")"
   ]
  },
  {
   "cell_type": "code",
   "execution_count": 8,
   "id": "b81094bb",
   "metadata": {},
   "outputs": [],
   "source": [
    "search.send_keys(\"Dell laptops\")"
   ]
  },
  {
   "cell_type": "code",
   "execution_count": 9,
   "id": "50b2183d",
   "metadata": {},
   "outputs": [],
   "source": [
    "driver.find_element(By.ID,\"nav-search-submit-button\").click()"
   ]
  },
  {
   "cell_type": "code",
   "execution_count": 10,
   "id": "13c56992",
   "metadata": {},
   "outputs": [],
   "source": [
    "driver.find_element(By .XPATH,\"//span[text()='Dell']\").click()"
   ]
  },
  {
   "cell_type": "code",
   "execution_count": 13,
   "id": "f5646119",
   "metadata": {},
   "outputs": [],
   "source": [
    "laptop_name=[]\n",
    "laptop_prices=[]\n",
    "review=[]\n"
   ]
  },
  {
   "cell_type": "code",
   "execution_count": 17,
   "id": "7bd536c4",
   "metadata": {},
   "outputs": [
    {
     "name": "stdout",
     "output_type": "stream",
     "text": [
      "['Dell 14 Laptop, AMD Ryzen R5-5500U/ 8GB DDR4, 2400 MHz/ 512GB/ 14.0\" (35.56cm) FHD Display with Comfort View/Windows 11 + MSO\\'21/15 Month McAfee/Spill-Resistant Keyboard/Carbon Black/ 1.48kg', 'Dell Inspiron 3520 Laptop, Intel Core i5-1235U Processor, 16GB,512GB,15.6\" (39.62cm) FHD Display, Backlit Keyboard, Win 11 + MSO\\'21,15 Month McAfee, Silver, Thin & Light-1.65kg', 'Dell 14 Laptop, 12th Gen Intel Core i3-1215U Processor/8GB/512GB SSD/Intel UHD Graphics/14.0\"(35.56cm) FHD/Windows 11 + MSO\\'21/15 Month McAfee/Spill-Resistant Keyboard/Grey/Thin & Light 1.48kg', 'Dell 14 Laptop, 12th Gen Intel Core i5-1235U Processor, 16GB, 512GB, 14.0\" (35.56cm) FHD Display, Windows 11 + MSO\\'21, Spill-Resistant Keyboard, 15 Month Mcafee, Black, Thin & Light- 1.48kg', 'Dell Inspiron 3535 Laptop, AMD 7 Series Ryzen 5-7520U Processor/8GB/512GB/15.6\" (39.62cm) FHD WVA AG 120Hz 250 nits Display/Win 11 + MSO\\'21/15 Month McAfee/Platinum Silver/1.63kg', 'Dell 15 Laptop, Intel Core i5-1135G7 Processor/ 8GB/ 1TB+256GB SSD/15.6\"(39.62cm) FHD Display/Mobile Connect/Windows 11 + MSO\\'21/15 Month McAfee/Spill-Resistant Keyboard/Black/Thin & Light 1.69kg', '(Renewed) DELL Latitude 5490 Core i5 8th Gen Laptop, 16 GB RAM, 512GB SSD, Intel HD Graphics, 14 inch (36.83 cms) HD Screen, Windows 11 (Upgraded), MS Office, Black, Slim', 'Dell Inspiron 7430 2in1 Touch Laptop, 13th Gen Intel Core i3-1315U/8GB/1TB SSD/14.0\" (35.56cm) FHD+,16:10 Aspect Ratio/Backlit KB+FPR/Win 11+MSO\\'21/15 Months McAfee/Platinum Silver/Thin & Light-1.58kg', 'Dell Inspiron 3530 Laptop, 13th Gen Intel Core i5-1335U Processor/16GB/1TB SSD/15.6\" (39.62cm) FHD Display/Backlit Keyboard/Platinum Silver/Win 11 + MSO\\'21/15 Month McAfee/Thin & Light- 1.66kg', 'Dell 14 Laptop, Intel Core i5-1135G7 Processor/8GB/512GB/Intel UHD Graphic/14.0\" (35.6cm) FHD with Comfort View/Spill-Resistant Keyboard/Thin & Light 1.48kg/ Win 11+ MSO\\'21/15 Month McAfee/Titan Grey', 'Dell 15 Laptop, Intel Core i3-1115G4 Processor/8GB DDR4/512GB SSD/Intel UHD Graphics/15.6\" (39.6cm) FHD 120Hz Refresh, 250 nits/Mobile Connect/Win 11+MSO\\'21/15 Month McAfee/Black/Thin & Light-1.66kg', 'Dell Inspiron 5430 Laptop, 13th Gen Intel Core i7-1360P Processor/16GB/1TB SSD/14.0\" (35.56cm) FHD+ WVA 250 nits/Backlit KB + FPR/Win 11 + MSO\\'21/15 Month McAfee/Platinum Silver/Thin & Light- 1.59kg', 'Dell 14, Intel 12th Gen i5-1235U Laptop/8GB/512GB SSD/14.0\" (35.56cm) FHD TÃœV Rheinland Certified Comfortview to Reduce Harmful Blue Light Emission/Windows 11 + MSO\\'21/Black/15 Month McAfee,1.48kg', 'Dell G15 5520 Gaming Laptop, Intel i5-12500H/16GB DDR5/1TB SSD/15.6\" (39.62cm) FHD WVA AG 120Hz 250 nits/NVIDIA RTX 3050, 4 GB GDDR6/Win 11 + MSO\\'21/15 Months McAfee/Backlit KB/Dark Shadow Grey/2.81kg', 'Dell New 14\" Latitude 3420- i3 11th Gen || 8 GB || 512 GB SSD || 14\" Full HD 1920 x 1080 Pixels || Ubuntu-Dos || 1 Year Onsite with ADP Warranty', '(Renewed) Dell Latitude Laptop E5470 Intel Core i5 6th Gen. - 6200u Processor, 8 GB Ram & 256 GB SSD, 14.1 Inches HD Screen Notebook Computer', 'Dell Inspiron 3530 Laptop, Intel Core i7-1355U Processor, 16GB, 512GB, 15.6\" (39.62cm) FHD WVA AG 120Hz, Backlit KB + FPR, Win 11 + MSO\\'21, 15 Month McAfee, Silver, 1.62kg', '(Renewed) Dell Intel 5th Gen Core i5 5300U 14-Inch (35.56 cms) Laptop (8 GB/256 GB SSD/Windows 10/Intel HD Graphics/Black/), Latitude E5450', 'Dell 14 Laptop, AMD Ryzen 5-5500U/ 8GB- 2 DIMM Slots (Expandable to 16GB)/ 512GB/ 14.0\" (35.56cm) FHD Display 250 Nits/Windows 11 + MSO\\'21/15 Month McAfee/AMD Radeon Graphics/Black/Thin & Light-1.48kg', \"(Renewed) DELL LATITUDE 7490, Windows 10 Pro, Intel Core I5 8TH GEN/8GB/512GB SSD/WEBCAM/14'' (35 cm\", '(Renewed) DELL Latitude 5490 Core i5 7th Gen Laptop, 8 GB RAM, 512gb SSD, Intel HD Graphics, 14 inch (36.83 cms) HD Screen, Windows 11 (Upgraded), MS Office, Black, Slim', 'Dell Inspiron 5330 Laptop, Intel Evo Platform Powered by Intel Core i7-1360P Processor/16GB LP DDR5/1TB SSD/13.3\" (33.78cm) QHD+ 300 nits/Win 11 + MSO\\'21/15 Month McAfee/Platinum Silver/1.24kg', 'Dell G15-5520 Gaming Laptop, Intel Core i9-12900H Processor, 16GB DDR5/1TB SSD/NVIDIA RTX 3060 (6GB GDDR6)/15.6\" (39.62cm) FHD 165Hz 300 nits/Win 11 + MSO\\'21/15 Month McAfee/Dark Shadow Grey/2.81kg', 'Dell Inspiron 3520 Laptop,12th Gen Intel Core i3-1215, Windows 11 + MSO\\'21, McAfee 15 Months, 8GB, 512GB SSD, 15.6\" (39.62Cms) 3 Sided Narrow Border Design with 120Hz FHD Display, Black, 1.65Kgs']\n"
     ]
    }
   ],
   "source": [
    "names=driver.find_elements(By .XPATH,\"//span[@class='a-size-medium a-color-base a-text-normal']\")\n",
    "laptop_name=[i.text for i in names]\n",
    "print(laptop_name)"
   ]
  },
  {
   "cell_type": "code",
   "execution_count": 19,
   "id": "41aa9b9a",
   "metadata": {},
   "outputs": [
    {
     "name": "stdout",
     "output_type": "stream",
     "text": [
      "24\n"
     ]
    }
   ],
   "source": [
    "print(len(laptop_name))"
   ]
  },
  {
   "cell_type": "code",
   "execution_count": 20,
   "id": "1fedc426",
   "metadata": {},
   "outputs": [
    {
     "name": "stdout",
     "output_type": "stream",
     "text": [
      "['34,990', '33,990', '35,990', '35,990', '55,280', '35,990', '49,990', '38,990', '44,990', '23,649', '57,990', '67,490', '44,990', '33,990', '83,490', '46,990', '75,990', '30,630', '19,999', '71,490', '19,890', '37,817', '22,499', '20,999', '98,990', '1,24,990', '36,970']\n"
     ]
    }
   ],
   "source": [
    "price=driver.find_elements(By .XPATH,\"//span[@class='a-price-whole']\")\n",
    "laptop_prices=[i.text for i in price]\n",
    "print(laptop_prices)"
   ]
  },
  {
   "cell_type": "code",
   "execution_count": 27,
   "id": "cf739178",
   "metadata": {},
   "outputs": [
    {
     "data": {
      "text/plain": [
       "'55,280'"
      ]
     },
     "execution_count": 27,
     "metadata": {},
     "output_type": "execute_result"
    }
   ],
   "source": [
    "laptop_prices.pop(0)\n",
    "laptop_prices.pop(1)\n",
    "laptop_prices.pop(2)"
   ]
  },
  {
   "cell_type": "code",
   "execution_count": 28,
   "id": "14fdbe0e",
   "metadata": {},
   "outputs": [
    {
     "name": "stdout",
     "output_type": "stream",
     "text": [
      "24\n"
     ]
    }
   ],
   "source": [
    "print(len(laptop_prices))"
   ]
  },
  {
   "cell_type": "code",
   "execution_count": 23,
   "id": "e05b43ef",
   "metadata": {},
   "outputs": [
    {
     "name": "stdout",
     "output_type": "stream",
     "text": [
      "['4', '2', '239', '72', '4', '607', '506', '179', '13', '2', '631', '82', '138', '517', '1', '1,534', '1', '283', '151', '76', '176', '6', '31', '186']\n"
     ]
    }
   ],
   "source": [
    "reviews=driver.find_elements(By .XPATH,\"//span[@class='a-size-base s-underline-text']\")\n",
    "laptop_reviews=[i.text for i in reviews]\n",
    "print(laptop_reviews)"
   ]
  },
  {
   "cell_type": "code",
   "execution_count": 24,
   "id": "57a3e1a9",
   "metadata": {},
   "outputs": [
    {
     "name": "stdout",
     "output_type": "stream",
     "text": [
      "24\n"
     ]
    }
   ],
   "source": [
    "print(len(laptop_reviews))"
   ]
  },
  {
   "cell_type": "code",
   "execution_count": 33,
   "id": "3ff097ae",
   "metadata": {},
   "outputs": [],
   "source": [
    "import pandas as pd"
   ]
  },
  {
   "cell_type": "code",
   "execution_count": 43,
   "id": "9e7a4a96",
   "metadata": {},
   "outputs": [
    {
     "name": "stdout",
     "output_type": "stream",
     "text": [
      "Empty DataFrame\n",
      "Columns: [laptop name, laptop prices, laptop reviews]\n",
      "Index: []\n"
     ]
    }
   ],
   "source": [
    "\n",
    "df=pd.DataFrame(columns=['laptop name','laptop prices','laptop reviews'])\n",
    "print(df)"
   ]
  },
  {
   "cell_type": "code",
   "execution_count": 45,
   "id": "43fdd1f8",
   "metadata": {},
   "outputs": [],
   "source": [
    "df['laptop name']=laptop_name\n",
    "df['laptop prices']=laptop_prices\n",
    "df['laptop reviews']=laptop_reviews"
   ]
  },
  {
   "cell_type": "code",
   "execution_count": 46,
   "id": "fbbfa342",
   "metadata": {},
   "outputs": [
    {
     "name": "stdout",
     "output_type": "stream",
     "text": [
      "                                          laptop name laptop prices  \\\n",
      "0   Dell 14 Laptop, AMD Ryzen R5-5500U/ 8GB DDR4, ...        33,990   \n",
      "1   Dell Inspiron 3520 Laptop, Intel Core i5-1235U...        35,990   \n",
      "2   Dell 14 Laptop, 12th Gen Intel Core i3-1215U P...        35,990   \n",
      "3   Dell 14 Laptop, 12th Gen Intel Core i5-1235U P...        49,990   \n",
      "4   Dell Inspiron 3535 Laptop, AMD 7 Series Ryzen ...        38,990   \n",
      "5   Dell 15 Laptop, Intel Core i5-1135G7 Processor...        44,990   \n",
      "6   (Renewed) DELL Latitude 5490 Core i5 8th Gen L...        23,649   \n",
      "7   Dell Inspiron 7430 2in1 Touch Laptop, 13th Gen...        57,990   \n",
      "8   Dell Inspiron 3530 Laptop, 13th Gen Intel Core...        67,490   \n",
      "9   Dell 14 Laptop, Intel Core i5-1135G7 Processor...        44,990   \n",
      "10  Dell 15 Laptop, Intel Core i3-1115G4 Processor...        33,990   \n",
      "11  Dell Inspiron 5430 Laptop, 13th Gen Intel Core...        83,490   \n",
      "12  Dell 14, Intel 12th Gen i5-1235U Laptop/8GB/51...        46,990   \n",
      "13  Dell G15 5520 Gaming Laptop, Intel i5-12500H/1...        75,990   \n",
      "14  Dell New 14\" Latitude 3420- i3 11th Gen || 8 G...        30,630   \n",
      "15  (Renewed) Dell Latitude Laptop E5470 Intel Cor...        19,999   \n",
      "16  Dell Inspiron 3530 Laptop, Intel Core i7-1355U...        71,490   \n",
      "17  (Renewed) Dell Intel 5th Gen Core i5 5300U 14-...        19,890   \n",
      "18  Dell 14 Laptop, AMD Ryzen 5-5500U/ 8GB- 2 DIMM...        37,817   \n",
      "19  (Renewed) DELL LATITUDE 7490, Windows 10 Pro, ...        22,499   \n",
      "20  (Renewed) DELL Latitude 5490 Core i5 7th Gen L...        20,999   \n",
      "21  Dell Inspiron 5330 Laptop, Intel Evo Platform ...        98,990   \n",
      "22  Dell G15-5520 Gaming Laptop, Intel Core i9-129...      1,24,990   \n",
      "23  Dell Inspiron 3520 Laptop,12th Gen Intel Core ...        36,970   \n",
      "\n",
      "   laptop reviews  \n",
      "0               4  \n",
      "1               2  \n",
      "2             239  \n",
      "3              72  \n",
      "4               4  \n",
      "5             607  \n",
      "6             506  \n",
      "7             179  \n",
      "8              13  \n",
      "9               2  \n",
      "10            631  \n",
      "11             82  \n",
      "12            138  \n",
      "13            517  \n",
      "14              1  \n",
      "15          1,534  \n",
      "16              1  \n",
      "17            283  \n",
      "18            151  \n",
      "19             76  \n",
      "20            176  \n",
      "21              6  \n",
      "22             31  \n",
      "23            186  \n"
     ]
    }
   ],
   "source": [
    "print(df)"
   ]
  },
  {
   "cell_type": "code",
   "execution_count": 47,
   "id": "94c16919",
   "metadata": {},
   "outputs": [],
   "source": [
    "df.to_csv(\"Dell_data.csv\")"
   ]
  },
  {
   "cell_type": "code",
   "execution_count": null,
   "id": "f5f884a1",
   "metadata": {},
   "outputs": [],
   "source": []
  }
 ],
 "metadata": {
  "kernelspec": {
   "display_name": "Python 3 (ipykernel)",
   "language": "python",
   "name": "python3"
  },
  "language_info": {
   "codemirror_mode": {
    "name": "ipython",
    "version": 3
   },
   "file_extension": ".py",
   "mimetype": "text/x-python",
   "name": "python",
   "nbconvert_exporter": "python",
   "pygments_lexer": "ipython3",
   "version": "3.11.5"
  }
 },
 "nbformat": 4,
 "nbformat_minor": 5
}
