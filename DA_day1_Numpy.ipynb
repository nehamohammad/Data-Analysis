{
  "nbformat": 4,
  "nbformat_minor": 0,
  "metadata": {
    "colab": {
      "provenance": []
    },
    "kernelspec": {
      "name": "python3",
      "display_name": "Python 3"
    },
    "language_info": {
      "name": "python"
    }
  },
  "cells": [
    {
      "cell_type": "code",
      "execution_count": null,
      "metadata": {
        "id": "CBQ3g4EFdzYx"
      },
      "outputs": [],
      "source": [
        "#importing\n",
        "import numpy as np"
      ]
    },
    {
      "cell_type": "code",
      "source": [
        "!pip install np"
      ],
      "metadata": {
        "colab": {
          "base_uri": "https://localhost:8080/"
        },
        "id": "YKshul2GgFQI",
        "outputId": "73efa66e-6a7e-40de-9278-87ebc0cee995"
      },
      "execution_count": null,
      "outputs": [
        {
          "output_type": "stream",
          "name": "stdout",
          "text": [
            "Collecting np\n",
            "  Downloading np-1.0.2.tar.gz (7.4 kB)\n",
            "  Preparing metadata (setup.py) ... \u001b[?25l\u001b[?25hdone\n",
            "Building wheels for collected packages: np\n",
            "  Building wheel for np (setup.py) ... \u001b[?25l\u001b[?25hdone\n",
            "  Created wheel for np: filename=np-1.0.2-py3-none-any.whl size=13658 sha256=9422158a7077c26c58d52218b1c8e22c3fdbbf653b7d4b5c9cf8f94957fc7fec\n",
            "  Stored in directory: /root/.cache/pip/wheels/f9/e1/79/c4580a03022dece233bc146286fc9082a8885ee1a7c8d8b980\n",
            "Successfully built np\n",
            "Installing collected packages: np\n",
            "Successfully installed np-1.0.2\n"
          ]
        }
      ]
    },
    {
      "cell_type": "markdown",
      "source": [
        "Arrays"
      ],
      "metadata": {
        "id": "XgS2xAATgeAa"
      }
    },
    {
      "cell_type": "code",
      "source": [
        "#creating 1D array\n",
        "A=np.array([2,2,7,9])\n",
        "print(type(A))"
      ],
      "metadata": {
        "colab": {
          "base_uri": "https://localhost:8080/"
        },
        "id": "9oRO-zEjgh8i",
        "outputId": "f9cad525-4869-4096-d48e-148b5effa37f"
      },
      "execution_count": null,
      "outputs": [
        {
          "output_type": "stream",
          "name": "stdout",
          "text": [
            "<class 'numpy.ndarray'>\n"
          ]
        }
      ]
    },
    {
      "cell_type": "code",
      "source": [
        "#CREATING A 2D ARRAY\n",
        "B=np.array([[1,2,3],[4,5,6]])\n",
        "print(B)"
      ],
      "metadata": {
        "colab": {
          "base_uri": "https://localhost:8080/"
        },
        "id": "BUhQNCbtgb7Z",
        "outputId": "51e4121d-1aa7-44ab-a639-0065b3785f3b"
      },
      "execution_count": null,
      "outputs": [
        {
          "output_type": "stream",
          "name": "stdout",
          "text": [
            "[[1 2 3]\n",
            " [4 5 6]]\n"
          ]
        }
      ]
    },
    {
      "cell_type": "code",
      "source": [
        "#creating a 3d array-rows,columns,groups\n",
        "C=np.array([[[1,2,3],[4,5,6]],[[7,8,9],[1,2,3]]])\n",
        "print(C)"
      ],
      "metadata": {
        "colab": {
          "base_uri": "https://localhost:8080/"
        },
        "id": "CvS2YUIFifh2",
        "outputId": "9b50aa92-9297-4d6e-b600-aa29e175b2e6"
      },
      "execution_count": null,
      "outputs": [
        {
          "output_type": "stream",
          "name": "stdout",
          "text": [
            "[[[1 2 3]\n",
            "  [4 5 6]]\n",
            "\n",
            " [[7 8 9]\n",
            "  [1 2 3]]]\n"
          ]
        }
      ]
    },
    {
      "cell_type": "code",
      "source": [
        "#CHECKING DIMENSIONS\n",
        "print(A.ndim)\n",
        "print(B.ndim)\n",
        "print(C.ndim)"
      ],
      "metadata": {
        "colab": {
          "base_uri": "https://localhost:8080/"
        },
        "id": "jPDfi4TVjKd1",
        "outputId": "ab8fd8cb-2b41-4ff8-e126-1865b8764600"
      },
      "execution_count": null,
      "outputs": [
        {
          "output_type": "stream",
          "name": "stdout",
          "text": [
            "1\n",
            "2\n",
            "3\n"
          ]
        }
      ]
    },
    {
      "cell_type": "code",
      "source": [
        "D=np.ones((3,2))\n",
        "print(D)"
      ],
      "metadata": {
        "id": "-3Wikd16jjty",
        "colab": {
          "base_uri": "https://localhost:8080/"
        },
        "outputId": "94ec6ba8-33c9-49cf-e736-a7601eb55d1f"
      },
      "execution_count": null,
      "outputs": [
        {
          "output_type": "stream",
          "name": "stdout",
          "text": [
            "[[1. 1.]\n",
            " [1. 1.]\n",
            " [1. 1.]]\n"
          ]
        }
      ]
    },
    {
      "cell_type": "code",
      "source": [
        "D=np.ones((2,3,2))\n",
        "print(D)"
      ],
      "metadata": {
        "colab": {
          "base_uri": "https://localhost:8080/"
        },
        "id": "nZZTfbQnnhwG",
        "outputId": "10812293-b479-45f2-cd8d-a99008e0aeb7"
      },
      "execution_count": null,
      "outputs": [
        {
          "output_type": "stream",
          "name": "stdout",
          "text": [
            "[[[1. 1.]\n",
            "  [1. 1.]\n",
            "  [1. 1.]]\n",
            "\n",
            " [[1. 1.]\n",
            "  [1. 1.]\n",
            "  [1. 1.]]]\n"
          ]
        }
      ]
    },
    {
      "cell_type": "code",
      "source": [
        "#ONES\n",
        "E=np.ones((3,2))#rows,colums,2D\n",
        "print(E)"
      ],
      "metadata": {
        "colab": {
          "base_uri": "https://localhost:8080/"
        },
        "id": "21CguL6tnwex",
        "outputId": "a8fb087f-4f1e-4be1-b114-54a70ead5bbc"
      },
      "execution_count": null,
      "outputs": [
        {
          "output_type": "stream",
          "name": "stdout",
          "text": [
            "[[1. 1.]\n",
            " [1. 1.]\n",
            " [1. 1.]]\n"
          ]
        }
      ]
    },
    {
      "cell_type": "code",
      "source": [
        "#zeros\n",
        "F=np.zeros((3,2))#2D\n",
        "print(F)"
      ],
      "metadata": {
        "colab": {
          "base_uri": "https://localhost:8080/"
        },
        "id": "yIPuYJy-n8ED",
        "outputId": "78cfcaab-38bb-417a-dbaa-5b20c116cb46"
      },
      "execution_count": null,
      "outputs": [
        {
          "output_type": "stream",
          "name": "stdout",
          "text": [
            "[[0. 0.]\n",
            " [0. 0.]\n",
            " [0. 0.]]\n"
          ]
        }
      ]
    },
    {
      "cell_type": "code",
      "source": [
        "J=np.eye(4)\n",
        "print(J)"
      ],
      "metadata": {
        "colab": {
          "base_uri": "https://localhost:8080/"
        },
        "id": "cIHHbiw-oTN4",
        "outputId": "acf06574-c8a0-4201-d377-ff17110afc5f"
      },
      "execution_count": null,
      "outputs": [
        {
          "output_type": "stream",
          "name": "stdout",
          "text": [
            "[[1. 0. 0. 0.]\n",
            " [0. 1. 0. 0.]\n",
            " [0. 0. 1. 0.]\n",
            " [0. 0. 0. 1.]]\n"
          ]
        }
      ]
    },
    {
      "cell_type": "code",
      "source": [
        "#arange\n",
        "H=np.arange(2,30,2)#start,stop,step\n",
        "print(H)"
      ],
      "metadata": {
        "colab": {
          "base_uri": "https://localhost:8080/"
        },
        "id": "wimLa4TWobEa",
        "outputId": "65fdaab5-fd57-40c8-c7be-86c60bbf7183"
      },
      "execution_count": null,
      "outputs": [
        {
          "output_type": "stream",
          "name": "stdout",
          "text": [
            "[ 2  4  6  8 10 12 14 16 18 20 22 24 26 28]\n"
          ]
        }
      ]
    },
    {
      "cell_type": "code",
      "source": [
        "H=np.arange(2,30,2).reshape(7,2)\n",
        "print(H)"
      ],
      "metadata": {
        "colab": {
          "base_uri": "https://localhost:8080/"
        },
        "id": "g_tQYpz_otS6",
        "outputId": "0022f817-21c0-441a-90db-1437e837cda5"
      },
      "execution_count": null,
      "outputs": [
        {
          "output_type": "stream",
          "name": "stdout",
          "text": [
            "[[ 2  4]\n",
            " [ 6  8]\n",
            " [10 12]\n",
            " [14 16]\n",
            " [18 20]\n",
            " [22 24]\n",
            " [26 28]]\n"
          ]
        }
      ]
    },
    {
      "cell_type": "code",
      "source": [
        "H=np.arange(5,1001,5)\n",
        "print(H)"
      ],
      "metadata": {
        "colab": {
          "base_uri": "https://localhost:8080/"
        },
        "id": "t4Sdz6KBpKNz",
        "outputId": "b530990f-cd54-4943-b019-4055107d43c2"
      },
      "execution_count": null,
      "outputs": [
        {
          "output_type": "stream",
          "name": "stdout",
          "text": [
            "[   5   10   15   20   25   30   35   40   45   50   55   60   65   70\n",
            "   75   80   85   90   95  100  105  110  115  120  125  130  135  140\n",
            "  145  150  155  160  165  170  175  180  185  190  195  200  205  210\n",
            "  215  220  225  230  235  240  245  250  255  260  265  270  275  280\n",
            "  285  290  295  300  305  310  315  320  325  330  335  340  345  350\n",
            "  355  360  365  370  375  380  385  390  395  400  405  410  415  420\n",
            "  425  430  435  440  445  450  455  460  465  470  475  480  485  490\n",
            "  495  500  505  510  515  520  525  530  535  540  545  550  555  560\n",
            "  565  570  575  580  585  590  595  600  605  610  615  620  625  630\n",
            "  635  640  645  650  655  660  665  670  675  680  685  690  695  700\n",
            "  705  710  715  720  725  730  735  740  745  750  755  760  765  770\n",
            "  775  780  785  790  795  800  805  810  815  820  825  830  835  840\n",
            "  845  850  855  860  865  870  875  880  885  890  895  900  905  910\n",
            "  915  920  925  930  935  940  945  950  955  960  965  970  975  980\n",
            "  985  990  995 1000]\n"
          ]
        }
      ]
    },
    {
      "cell_type": "code",
      "source": [
        "#linespace\n",
        "V=np.linspace(10,20,10)\n",
        "print(V)"
      ],
      "metadata": {
        "colab": {
          "base_uri": "https://localhost:8080/"
        },
        "id": "L1cGwzoCqttC",
        "outputId": "4bcba153-f317-4651-b869-6af0284ea170"
      },
      "execution_count": null,
      "outputs": [
        {
          "output_type": "stream",
          "name": "stdout",
          "text": [
            "[10.         11.11111111 12.22222222 13.33333333 14.44444444 15.55555556\n",
            " 16.66666667 17.77777778 18.88888889 20.        ]\n"
          ]
        }
      ]
    },
    {
      "cell_type": "code",
      "source": [
        "L=np.arange(2,8).reshape(2,3)\n",
        "print(L)\n",
        "H=np.arange(4,10).reshape(2,3)\n",
        "print(H)"
      ],
      "metadata": {
        "colab": {
          "base_uri": "https://localhost:8080/"
        },
        "id": "glD7St5yrO-J",
        "outputId": "27b7c65a-a13a-4852-aa5a-63b40fe504c1"
      },
      "execution_count": null,
      "outputs": [
        {
          "output_type": "stream",
          "name": "stdout",
          "text": [
            "[[2 3 4]\n",
            " [5 6 7]]\n",
            "[[4 5 6]\n",
            " [7 8 9]]\n"
          ]
        }
      ]
    },
    {
      "cell_type": "code",
      "source": [
        "print(L+H)"
      ],
      "metadata": {
        "colab": {
          "base_uri": "https://localhost:8080/"
        },
        "id": "S6bIt2tosHFJ",
        "outputId": "01a0bdc6-13d6-4f9b-a7c8-84e2090faa91"
      },
      "execution_count": null,
      "outputs": [
        {
          "output_type": "stream",
          "name": "stdout",
          "text": [
            "[[ 6  8 10]\n",
            " [12 14 16]]\n"
          ]
        }
      ]
    },
    {
      "cell_type": "code",
      "source": [
        "n=np.sum(H+L)\n",
        "print(n)"
      ],
      "metadata": {
        "colab": {
          "base_uri": "https://localhost:8080/"
        },
        "id": "e5jWqw88sVuZ",
        "outputId": "ff296f22-5663-4e28-c2c6-6a27225912e5"
      },
      "execution_count": null,
      "outputs": [
        {
          "output_type": "stream",
          "name": "stdout",
          "text": [
            "66\n"
          ]
        }
      ]
    },
    {
      "cell_type": "code",
      "source": [
        "G=np.sum((H,L),axis=0)\n",
        "print(G)"
      ],
      "metadata": {
        "colab": {
          "base_uri": "https://localhost:8080/"
        },
        "id": "5TbUXa11uPg_",
        "outputId": "c2be07db-43f9-4d49-8816-a7c3e1a18ba2"
      },
      "execution_count": null,
      "outputs": [
        {
          "output_type": "stream",
          "name": "stdout",
          "text": [
            "[[ 6  8 10]\n",
            " [12 14 16]]\n"
          ]
        }
      ]
    },
    {
      "cell_type": "code",
      "source": [
        "G=np.sum((H,L),axis=1)\n",
        "print(G)"
      ],
      "metadata": {
        "colab": {
          "base_uri": "https://localhost:8080/"
        },
        "id": "MZdNT7uhuJmh",
        "outputId": "64325c20-0977-401b-dcd7-e3efae1f575c"
      },
      "execution_count": null,
      "outputs": [
        {
          "output_type": "stream",
          "name": "stdout",
          "text": [
            "[[11 13 15]\n",
            " [ 7  9 11]]\n"
          ]
        }
      ]
    },
    {
      "cell_type": "code",
      "source": [
        "n=np.ones((4,2))\n",
        "h=np.ones((4,2))\n",
        "print(np.sum((n,h),axis=0))\n",
        "print(np.sum((n,h),axis=1))"
      ],
      "metadata": {
        "colab": {
          "base_uri": "https://localhost:8080/"
        },
        "id": "NwExnTgzw35I",
        "outputId": "9b7831c3-53d3-4b6b-8bf3-24f387c84aed"
      },
      "execution_count": null,
      "outputs": [
        {
          "output_type": "stream",
          "name": "stdout",
          "text": [
            "[[2. 2.]\n",
            " [2. 2.]\n",
            " [2. 2.]\n",
            " [2. 2.]]\n",
            "[[4. 4.]\n",
            " [4. 4.]]\n"
          ]
        }
      ]
    },
    {
      "cell_type": "code",
      "source": [
        "A=np.array([[1,1],[0,1]])\n",
        "B=np.array([[2,0],[3,2]])\n",
        "print(A*B)\n",
        "print(A@B)"
      ],
      "metadata": {
        "colab": {
          "base_uri": "https://localhost:8080/"
        },
        "id": "SU1cPWw-xzPU",
        "outputId": "273140b9-9dac-4bdf-92d3-b2472c46ba38"
      },
      "execution_count": null,
      "outputs": [
        {
          "output_type": "stream",
          "name": "stdout",
          "text": [
            "[[2 0]\n",
            " [0 2]]\n",
            "[[5 2]\n",
            " [3 2]]\n"
          ]
        }
      ]
    },
    {
      "cell_type": "markdown",
      "source": [
        "b=np.array[25,289,361,81]#find square roots and iterate through result values output:5 square is 25.."
      ],
      "metadata": {
        "id": "ZNLlM1knzexJ"
      }
    },
    {
      "cell_type": "code",
      "source": [
        "b=np.array([25,289,361,81])\n",
        "for i in b:\n",
        "  print((np.sqrt(i)),\"square is\",i)\n"
      ],
      "metadata": {
        "colab": {
          "base_uri": "https://localhost:8080/"
        },
        "id": "Tcv25OC1zYnp",
        "outputId": "0f9bae96-b74e-4ffd-ba3c-e4c42a416b50"
      },
      "execution_count": null,
      "outputs": [
        {
          "output_type": "stream",
          "name": "stdout",
          "text": [
            "5.0 square is 25\n",
            "17.0 square is 289\n",
            "19.0 square is 361\n",
            "9.0 square is 81\n"
          ]
        }
      ]
    },
    {
      "cell_type": "code",
      "source": [],
      "metadata": {
        "id": "1RNJadDj67nb"
      },
      "execution_count": null,
      "outputs": []
    },
    {
      "cell_type": "markdown",
      "source": [
        "Array joins"
      ],
      "metadata": {
        "id": "zFdfSOdvCHP4"
      }
    },
    {
      "cell_type": "code",
      "source": [
        "a=np.array([1,2,3,4,5,6])\n",
        "a.resize(2,3)\n",
        "print(a)\n",
        "b=np.array([10,11,12,13,14,15])\n",
        "b.resize(2,3)\n",
        "print(b)\n",
        "print(np.vstack((a,b)))#coloumns\n",
        "print(\"\\n\")\n",
        "print(np.hstack((a,b)))#rows"
      ],
      "metadata": {
        "colab": {
          "base_uri": "https://localhost:8080/"
        },
        "id": "QrXBN3ca59KQ",
        "outputId": "1b31b476-4d82-48c6-b438-8e5787f35f65"
      },
      "execution_count": null,
      "outputs": [
        {
          "output_type": "stream",
          "name": "stdout",
          "text": [
            "[[1 2 3]\n",
            " [4 5 6]]\n",
            "[[10 11 12]\n",
            " [13 14 15]]\n",
            "[[ 1  2  3]\n",
            " [ 4  5  6]\n",
            " [10 11 12]\n",
            " [13 14 15]]\n",
            "\n",
            "\n",
            "[[ 1  2  3 10 11 12]\n",
            " [ 4  5  6 13 14 15]]\n"
          ]
        }
      ]
    },
    {
      "cell_type": "code",
      "source": [
        "a=np.arange(30).reshape(2,3,5)\n",
        "print(a)\n",
        "print(\"\\n\")\n",
        "print(np.dstack(a))#groups becomes coloumns,number of rows becomes number of groups,coloumns becomes rows"
      ],
      "metadata": {
        "colab": {
          "base_uri": "https://localhost:8080/"
        },
        "id": "AzO07ncH9QZI",
        "outputId": "2eb36cc6-97f2-4eaa-c649-d0ffea47960b"
      },
      "execution_count": null,
      "outputs": [
        {
          "output_type": "stream",
          "name": "stdout",
          "text": [
            "[[[ 0  1  2  3  4]\n",
            "  [ 5  6  7  8  9]\n",
            "  [10 11 12 13 14]]\n",
            "\n",
            " [[15 16 17 18 19]\n",
            "  [20 21 22 23 24]\n",
            "  [25 26 27 28 29]]]\n",
            "\n",
            "\n",
            "[[[ 0 15]\n",
            "  [ 1 16]\n",
            "  [ 2 17]\n",
            "  [ 3 18]\n",
            "  [ 4 19]]\n",
            "\n",
            " [[ 5 20]\n",
            "  [ 6 21]\n",
            "  [ 7 22]\n",
            "  [ 8 23]\n",
            "  [ 9 24]]\n",
            "\n",
            " [[10 25]\n",
            "  [11 26]\n",
            "  [12 27]\n",
            "  [13 28]\n",
            "  [14 29]]]\n"
          ]
        }
      ]
    }
  ]
}