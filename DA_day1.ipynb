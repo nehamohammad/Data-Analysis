{
  "nbformat": 4,
  "nbformat_minor": 0,
  "metadata": {
    "colab": {
      "provenance": []
    },
    "kernelspec": {
      "name": "python3",
      "display_name": "Python 3"
    },
    "language_info": {
      "name": "python"
    }
  },
  "cells": [
    {
      "cell_type": "code",
      "execution_count": null,
      "metadata": {
        "colab": {
          "base_uri": "https://localhost:8080/"
        },
        "id": "aqsVSPYNqhYy",
        "outputId": "5ab5eeb4-6b51-493f-8b5c-089c6aaeaa9c"
      },
      "outputs": [
        {
          "output_type": "stream",
          "name": "stdout",
          "text": [
            "I am 5 years old\n"
          ]
        }
      ],
      "source": [
        "a=5\n",
        "print(\"I am\",a,\"years old\")"
      ]
    },
    {
      "cell_type": "markdown",
      "source": [
        "operators"
      ],
      "metadata": {
        "id": "8s_zF_5VryBS"
      }
    },
    {
      "cell_type": "code",
      "source": [
        "a=5\n",
        "b=25\n",
        "print(a+b)\n",
        "print(a-b)\n",
        "print(a*b)\n",
        "print(a%b)"
      ],
      "metadata": {
        "colab": {
          "base_uri": "https://localhost:8080/"
        },
        "id": "Mpk7_0EQrz9g",
        "outputId": "3c3f38b5-f828-4888-cde3-a7adaa3ee6d5"
      },
      "execution_count": null,
      "outputs": [
        {
          "output_type": "stream",
          "name": "stdout",
          "text": [
            "30\n",
            "-20\n",
            "125\n",
            "5\n"
          ]
        }
      ]
    },
    {
      "cell_type": "markdown",
      "source": [
        "power"
      ],
      "metadata": {
        "id": "4oE1c4MrsDC7"
      }
    },
    {
      "cell_type": "code",
      "source": [
        "#power\n",
        "print(2**3)"
      ],
      "metadata": {
        "colab": {
          "base_uri": "https://localhost:8080/"
        },
        "id": "NlHjXwm3sEBc",
        "outputId": "54132154-823d-46c7-ef78-52bc4a5c4c92"
      },
      "execution_count": null,
      "outputs": [
        {
          "output_type": "stream",
          "name": "stdout",
          "text": [
            "8\n"
          ]
        }
      ]
    },
    {
      "cell_type": "code",
      "source": [
        "print(28//7)"
      ],
      "metadata": {
        "colab": {
          "base_uri": "https://localhost:8080/"
        },
        "id": "MHuKpcNmsmCE",
        "outputId": "8323cbc6-656b-43e5-ae80-6966ba1be772"
      },
      "execution_count": null,
      "outputs": [
        {
          "output_type": "stream",
          "name": "stdout",
          "text": [
            "4\n"
          ]
        }
      ]
    },
    {
      "cell_type": "code",
      "source": [
        "a=7\n",
        "b=7\n",
        "print(a==b)\n",
        "print(a>b)\n",
        "print(a!=b)\n",
        "print(a<b)\n",
        "print(a>=b)\n",
        "print(a<=b)"
      ],
      "metadata": {
        "colab": {
          "base_uri": "https://localhost:8080/"
        },
        "id": "urFHhYiasrtm",
        "outputId": "76ae3566-29aa-4b38-da3d-08e881cf83f2"
      },
      "execution_count": null,
      "outputs": [
        {
          "output_type": "stream",
          "name": "stdout",
          "text": [
            "True\n",
            "False\n",
            "False\n",
            "False\n",
            "True\n",
            "True\n"
          ]
        }
      ]
    },
    {
      "cell_type": "markdown",
      "source": [
        "6 table"
      ],
      "metadata": {
        "id": "0Jj6A8kCw7FQ"
      }
    },
    {
      "cell_type": "code",
      "source": [
        "n=6\n",
        "for i in range(1,11,1):\n",
        "  a=n*i\n",
        "  print(a)"
      ],
      "metadata": {
        "colab": {
          "base_uri": "https://localhost:8080/"
        },
        "id": "b4z-qGGxt4VU",
        "outputId": "f1977527-211e-4c1e-cf0b-8401095a3207"
      },
      "execution_count": null,
      "outputs": [
        {
          "output_type": "stream",
          "name": "stdout",
          "text": [
            "6\n",
            "12\n",
            "18\n",
            "24\n",
            "30\n",
            "36\n",
            "42\n",
            "48\n",
            "54\n",
            "60\n"
          ]
        }
      ]
    },
    {
      "cell_type": "code",
      "source": [],
      "metadata": {
        "id": "0_3ti7NXudpr"
      },
      "execution_count": null,
      "outputs": []
    },
    {
      "cell_type": "markdown",
      "source": [
        "logical\n"
      ],
      "metadata": {
        "id": "2DFA4eAeujow"
      }
    },
    {
      "cell_type": "code",
      "source": [
        "a=9\n",
        "b=25\n",
        "print((a>b)and(a<b))\n",
        "print((a>b)or(a<b))"
      ],
      "metadata": {
        "colab": {
          "base_uri": "https://localhost:8080/"
        },
        "id": "FBJeXne3ulFe",
        "outputId": "5a19b1e3-755e-4743-924e-11419acb7ae5"
      },
      "execution_count": null,
      "outputs": [
        {
          "output_type": "stream",
          "name": "stdout",
          "text": [
            "False\n",
            "True\n"
          ]
        }
      ]
    },
    {
      "cell_type": "markdown",
      "source": [
        "membership"
      ],
      "metadata": {
        "id": "TFZCT2W0ve48"
      }
    },
    {
      "cell_type": "markdown",
      "source": [],
      "metadata": {
        "id": "Zf4dmcqvxerd"
      }
    },
    {
      "cell_type": "code",
      "source": [
        "a=\"army\"\n",
        "print(\"x\" in a)"
      ],
      "metadata": {
        "colab": {
          "base_uri": "https://localhost:8080/"
        },
        "id": "oLIeS7snvkaw",
        "outputId": "c6fab4da-42fb-4c6d-d7ec-1f395ee9b255"
      },
      "execution_count": null,
      "outputs": [
        {
          "output_type": "stream",
          "name": "stdout",
          "text": [
            "False\n"
          ]
        }
      ]
    },
    {
      "cell_type": "code",
      "source": [],
      "metadata": {
        "id": "llrSjbknvG9a"
      },
      "execution_count": null,
      "outputs": []
    },
    {
      "cell_type": "markdown",
      "source": [
        "control flow"
      ],
      "metadata": {
        "id": "cp-1DoMxv_Kq"
      }
    },
    {
      "cell_type": "code",
      "source": [
        "#condition-if\n",
        "#write a program to get a number from the user and check whether it is positive or negative\n",
        "a=int(input(\"enter a number:\"))\n",
        "if(a>0):\n",
        "  print(a, \"is positive\")"
      ],
      "metadata": {
        "colab": {
          "base_uri": "https://localhost:8080/"
        },
        "id": "V0X_Mz1NwBwl",
        "outputId": "4dd05e55-58a6-4f37-c648-fbf2e0643be8"
      },
      "execution_count": null,
      "outputs": [
        {
          "output_type": "stream",
          "name": "stdout",
          "text": [
            "enter a number:7\n",
            "7 is positive\n"
          ]
        }
      ]
    },
    {
      "cell_type": "markdown",
      "source": [],
      "metadata": {
        "id": "QmW4ygndv8Nh"
      }
    },
    {
      "cell_type": "markdown",
      "source": [
        "type"
      ],
      "metadata": {
        "id": "kAVmvaQJxuQW"
      }
    },
    {
      "cell_type": "code",
      "source": [
        "a=int(input(\"enter a number:\"))\n",
        "print(type(a))"
      ],
      "metadata": {
        "colab": {
          "base_uri": "https://localhost:8080/"
        },
        "id": "9yXdqHCZxzsv",
        "outputId": "49e06829-cf29-4333-ddd8-5f8f780920af"
      },
      "execution_count": null,
      "outputs": [
        {
          "output_type": "stream",
          "name": "stdout",
          "text": [
            "enter a number:4\n",
            "<class 'int'>\n"
          ]
        }
      ]
    },
    {
      "cell_type": "markdown",
      "source": [
        "else if"
      ],
      "metadata": {
        "id": "hgHWmpTsyI_h"
      }
    },
    {
      "cell_type": "code",
      "source": [
        "a=int(input(\"enter number:\"))\n",
        "if a==0:\n",
        "  print(a, \"is nuetral\")\n",
        "elif a>0:\n",
        "  print(a, \"is positive\")\n",
        "else:\n",
        "  print(a, \"is negative\")\n"
      ],
      "metadata": {
        "colab": {
          "base_uri": "https://localhost:8080/"
        },
        "id": "sz8F8GoMyVCq",
        "outputId": "d00a7373-bf33-4508-e3a2-84d89011d051"
      },
      "execution_count": null,
      "outputs": [
        {
          "output_type": "stream",
          "name": "stdout",
          "text": [
            "enter number:-4\n",
            "-4 is negative\n"
          ]
        }
      ]
    },
    {
      "cell_type": "markdown",
      "source": [
        "while loop\n"
      ],
      "metadata": {
        "id": "ZhrwlgJ12BA0"
      }
    },
    {
      "cell_type": "code",
      "source": [
        "n=int(input(\"enter a number:\"))\n",
        "i=1\n",
        "while(i<=n):\n",
        "  i=i+1\n",
        "  print(i)"
      ],
      "metadata": {
        "colab": {
          "base_uri": "https://localhost:8080/"
        },
        "id": "n0fYllC72PHh",
        "outputId": "62244f17-873d-495e-b583-72d289b90c2b"
      },
      "execution_count": null,
      "outputs": [
        {
          "output_type": "stream",
          "name": "stdout",
          "text": [
            "enter a number:7\n",
            "2\n",
            "3\n",
            "4\n",
            "5\n",
            "6\n",
            "7\n",
            "8\n"
          ]
        }
      ]
    },
    {
      "cell_type": "markdown",
      "source": [],
      "metadata": {
        "id": "r_Y-Fl0N4wyY"
      }
    },
    {
      "cell_type": "markdown",
      "source": [
        "data slicing\n"
      ],
      "metadata": {
        "id": "ibo7nC6Z5tyz"
      }
    },
    {
      "cell_type": "code",
      "source": [
        "a=\"python is easy\"\n",
        "print(a[: :-1])\n",
        "print(a[4:7:1])"
      ],
      "metadata": {
        "colab": {
          "base_uri": "https://localhost:8080/"
        },
        "id": "5L-oeN8S5vxT",
        "outputId": "cb279694-8c1e-49b2-a4a4-0669cb1ec0c5"
      },
      "execution_count": null,
      "outputs": [
        {
          "output_type": "stream",
          "name": "stdout",
          "text": [
            "ysae si nohtyp\n",
            "on \n"
          ]
        }
      ]
    },
    {
      "cell_type": "markdown",
      "source": [
        "7 table"
      ],
      "metadata": {
        "id": "C9u41dSW5-Ku"
      }
    },
    {
      "cell_type": "code",
      "source": [
        "n=int(input(\"enter a number\"))\n",
        "a=7\n",
        "i=1\n",
        "while(i<=n):\n",
        "  b=a*i\n",
        "  i=i+1\n",
        "  print(b)\n",
        "\n"
      ],
      "metadata": {
        "colab": {
          "base_uri": "https://localhost:8080/"
        },
        "id": "aCIgCrx06Anz",
        "outputId": "6defe623-48d8-4a5e-e821-f8a44f571a80"
      },
      "execution_count": null,
      "outputs": [
        {
          "output_type": "stream",
          "name": "stdout",
          "text": [
            "enter a number10\n",
            "7\n",
            "14\n",
            "21\n",
            "28\n",
            "35\n",
            "42\n",
            "49\n",
            "56\n",
            "63\n",
            "70\n"
          ]
        }
      ]
    },
    {
      "cell_type": "markdown",
      "source": [],
      "metadata": {
        "id": "VQCWtoXY9ekj"
      }
    },
    {
      "cell_type": "markdown",
      "source": [
        "collections:\n",
        "list:\n",
        "-list is a collection o elements\n",
        "-heterogenous\n",
        "-mutable(modifiable)"
      ],
      "metadata": {
        "id": "nXMRIvDO9g3N"
      }
    },
    {
      "cell_type": "code",
      "source": [
        "l1=[74,\"neha\",22.79]\n",
        "print(l1)"
      ],
      "metadata": {
        "colab": {
          "base_uri": "https://localhost:8080/"
        },
        "id": "d1r_30vl9zLn",
        "outputId": "fc84d06f-df0a-4928-c003-026d49120c85"
      },
      "execution_count": null,
      "outputs": [
        {
          "output_type": "stream",
          "name": "stdout",
          "text": [
            "[74, 'neha', 22.79]\n"
          ]
        }
      ]
    },
    {
      "cell_type": "markdown",
      "source": [
        "list"
      ],
      "metadata": {
        "id": "gyEwQ3MK-QHB"
      }
    },
    {
      "cell_type": "code",
      "source": [
        "l1=[74,\"neha\",22.79]\n",
        "for i in l1:\n",
        "  print(i)"
      ],
      "metadata": {
        "colab": {
          "base_uri": "https://localhost:8080/"
        },
        "id": "gddjmHiW-Rrc",
        "outputId": "9ebc90b7-780a-46ef-8ad8-a6114f0ab5e2"
      },
      "execution_count": null,
      "outputs": [
        {
          "output_type": "stream",
          "name": "stdout",
          "text": [
            "74\n",
            "neha\n",
            "22.79\n"
          ]
        }
      ]
    },
    {
      "cell_type": "code",
      "source": [
        "a=75\n",
        "l1.append(a)\n",
        "print(l1)"
      ],
      "metadata": {
        "colab": {
          "base_uri": "https://localhost:8080/"
        },
        "id": "zlDQejuK_rE-",
        "outputId": "13e2404a-922d-4a52-f3cd-d5e593011e06"
      },
      "execution_count": null,
      "outputs": [
        {
          "output_type": "stream",
          "name": "stdout",
          "text": [
            "[74, 'neha', 22.79, 97, 75]\n"
          ]
        }
      ]
    },
    {
      "cell_type": "code",
      "source": [
        "l2=[1,\"hema\",3.7]\n",
        "l2.insert(2,\"neha\")\n",
        "print(l2)"
      ],
      "metadata": {
        "colab": {
          "base_uri": "https://localhost:8080/"
        },
        "id": "QrOth1D4AglL",
        "outputId": "ebdd9012-5cdc-43fc-d4fa-2f6b2969226c"
      },
      "execution_count": null,
      "outputs": [
        {
          "output_type": "stream",
          "name": "stdout",
          "text": [
            "[1, 'hema', 'neha', 3.7]\n"
          ]
        }
      ]
    },
    {
      "cell_type": "code",
      "source": [
        "l1.extend(l2)\n",
        "print(l1)"
      ],
      "metadata": {
        "colab": {
          "base_uri": "https://localhost:8080/",
          "height": 192
        },
        "id": "1EJ7WcQ3BX62",
        "outputId": "d7964b17-6db8-4cb7-9876-741b598e2673"
      },
      "execution_count": null,
      "outputs": [
        {
          "output_type": "error",
          "ename": "NameError",
          "evalue": "name 'l1' is not defined",
          "traceback": [
            "\u001b[0;31m---------------------------------------------------------------------------\u001b[0m",
            "\u001b[0;31mNameError\u001b[0m                                 Traceback (most recent call last)",
            "\u001b[0;32m<ipython-input-6-ca64c55bef7a>\u001b[0m in \u001b[0;36m<cell line: 1>\u001b[0;34m()\u001b[0m\n\u001b[0;32m----> 1\u001b[0;31m \u001b[0ml1\u001b[0m\u001b[0;34m.\u001b[0m\u001b[0mextend\u001b[0m\u001b[0;34m(\u001b[0m\u001b[0ml2\u001b[0m\u001b[0;34m)\u001b[0m\u001b[0;34m\u001b[0m\u001b[0;34m\u001b[0m\u001b[0m\n\u001b[0m\u001b[1;32m      2\u001b[0m \u001b[0mprint\u001b[0m\u001b[0;34m(\u001b[0m\u001b[0ml1\u001b[0m\u001b[0;34m)\u001b[0m\u001b[0;34m\u001b[0m\u001b[0;34m\u001b[0m\u001b[0m\n",
            "\u001b[0;31mNameError\u001b[0m: name 'l1' is not defined"
          ]
        }
      ]
    },
    {
      "cell_type": "code",
      "source": [
        "l1.pop(2)\n",
        "print(l1)"
      ],
      "metadata": {
        "colab": {
          "base_uri": "https://localhost:8080/"
        },
        "id": "0VDD6NtnCjpK",
        "outputId": "2da76670-4136-40f6-b52c-297ec41f29d8"
      },
      "execution_count": null,
      "outputs": [
        {
          "output_type": "stream",
          "name": "stdout",
          "text": [
            "[74, 'neha', 97, 75, 1, 'vyshu', 'neha', 3.7]\n"
          ]
        }
      ]
    },
    {
      "cell_type": "code",
      "source": [
        "l1.remove(97)\n",
        "print(l1)"
      ],
      "metadata": {
        "colab": {
          "base_uri": "https://localhost:8080/"
        },
        "id": "uDBH2iLoDE4c",
        "outputId": "7afda1dc-e5a3-4191-f896-6dffaacbd2a9"
      },
      "execution_count": null,
      "outputs": [
        {
          "output_type": "stream",
          "name": "stdout",
          "text": [
            "[74, 'neha', 75, 1, 'vyshu', 'neha', 3.7]\n"
          ]
        }
      ]
    },
    {
      "cell_type": "code",
      "source": [
        "l3=[1,2,7.4,4.7,5]\n",
        "max(l3)"
      ],
      "metadata": {
        "colab": {
          "base_uri": "https://localhost:8080/"
        },
        "id": "rMhRoXdED3fP",
        "outputId": "2a9cf72e-f51c-442e-cf0e-8530047ca403"
      },
      "execution_count": null,
      "outputs": [
        {
          "output_type": "execute_result",
          "data": {
            "text/plain": [
              "7.4"
            ]
          },
          "metadata": {},
          "execution_count": 107
        }
      ]
    },
    {
      "cell_type": "markdown",
      "source": [
        "list comprehension\n",
        "-iterates\n",
        "-applies some function on every element\n",
        "-conditions\n",
        "-output=list"
      ],
      "metadata": {
        "id": "JdmgBJsLEeUh"
      }
    },
    {
      "cell_type": "code",
      "source": [
        "l1=[1,2,3,4,5]\n",
        "l2=[i**2 for i in l1]\n",
        "print(l2)"
      ],
      "metadata": {
        "colab": {
          "base_uri": "https://localhost:8080/"
        },
        "id": "jK7YQhEQFgEu",
        "outputId": "9a162526-47ee-4be0-fdea-f3da255757ce"
      },
      "execution_count": null,
      "outputs": [
        {
          "output_type": "stream",
          "name": "stdout",
          "text": [
            "[1, 4, 9, 16, 25]\n"
          ]
        }
      ]
    },
    {
      "cell_type": "code",
      "source": [
        "l3=[i**2 for i in l2 if i>=3]\n",
        "print(l3)"
      ],
      "metadata": {
        "colab": {
          "base_uri": "https://localhost:8080/"
        },
        "id": "tpcxSCHFFuz_",
        "outputId": "d2f05b83-5a94-45e9-a04b-2c27e120f65e"
      },
      "execution_count": null,
      "outputs": [
        {
          "output_type": "stream",
          "name": "stdout",
          "text": [
            "[16, 81, 256, 625]\n"
          ]
        }
      ]
    },
    {
      "cell_type": "markdown",
      "source": [
        "#the salaries of 5 employees in a company is taken as a list.the tax is 10% if the salary is less than or equal to 50000\n",
        "#or it is 15%\n",
        "#create a new list with tax amounts\n",
        "#[67000,45000,89000,34000,50000]\n",
        "#list_name=[body of if condition else body of else iterate]"
      ],
      "metadata": {
        "id": "EBx3BTkAIZlG"
      }
    },
    {
      "cell_type": "markdown",
      "source": [],
      "metadata": {
        "id": "BiJ1coi1IXKU"
      }
    },
    {
      "cell_type": "code",
      "source": [
        "sal=[67000,45000,89000,34000,50000]\n",
        "tax=[]\n",
        "for i in sal:\n",
        "  if i<=50000:\n",
        "    t=i*0.1\n",
        "    tax.append(t)\n",
        "  else:\n",
        "    t=i*0.15\n",
        "    tax.append(t)\n",
        "print(tax)\n"
      ],
      "metadata": {
        "colab": {
          "base_uri": "https://localhost:8080/"
        },
        "id": "c2VfRcg0Ieq2",
        "outputId": "925847fe-d285-42ea-d196-9f8cd23c713a"
      },
      "execution_count": null,
      "outputs": [
        {
          "output_type": "stream",
          "name": "stdout",
          "text": [
            "[10050.0, 4500.0, 13350.0, 3400.0, 5000.0]\n"
          ]
        }
      ]
    },
    {
      "cell_type": "code",
      "source": [
        "#list_name=[(body of if) if(condition) else (body of else) iterate]\n",
        "sal=[67000,45000,89000,34000,50000]\n",
        "tax=[i*0.1 if i<=50000 else i*0.15 for i in sal]\n",
        "print(tax)"
      ],
      "metadata": {
        "colab": {
          "base_uri": "https://localhost:8080/"
        },
        "id": "itxaosLpKPeP",
        "outputId": "3b75cdd4-bf27-4d2f-9e78-fc3e8d66b90b"
      },
      "execution_count": null,
      "outputs": [
        {
          "output_type": "stream",
          "name": "stdout",
          "text": [
            "[10050.0, 4500.0, 13350.0, 3400.0, 5000.0]\n"
          ]
        }
      ]
    },
    {
      "cell_type": "markdown",
      "source": [],
      "metadata": {
        "id": "Nhm9rjBnHRyf"
      }
    },
    {
      "cell_type": "code",
      "source": [
        "a=5\n",
        "b=12.25\n",
        "print(a+b)#implicit\n",
        "print(int(a+b))#explicit"
      ],
      "metadata": {
        "colab": {
          "base_uri": "https://localhost:8080/"
        },
        "id": "4Q1bRN0XAYku",
        "outputId": "af761103-6307-4515-a5c2-3ccc713ca6af"
      },
      "execution_count": null,
      "outputs": [
        {
          "output_type": "stream",
          "name": "stdout",
          "text": [
            "17.25\n",
            "17\n"
          ]
        }
      ]
    }
  ]
}